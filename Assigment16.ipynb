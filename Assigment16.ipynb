{
 "cells": [
  {
   "cell_type": "markdown",
   "id": "bcd55d9e-842f-403f-a840-fa4e29a86987",
   "metadata": {},
   "source": [
    "# Assigment"
   ]
  },
  {
   "cell_type": "markdown",
   "id": "a6e95bde-52d7-4747-91dc-eb3a7e82ff00",
   "metadata": {},
   "source": [
    "### Question 1"
   ]
  },
  {
   "cell_type": "markdown",
   "id": "19bafe32-5a48-4cba-8454-15e2fe79498f",
   "metadata": {},
   "source": [
    "What is a database? Differentiate between SQL and NoSQL databases."
   ]
  },
  {
   "cell_type": "markdown",
   "id": "9ec6fdcf-3bc8-4519-8e94-e8f12d7f406f",
   "metadata": {},
   "source": [
    "### Answer"
   ]
  },
  {
   "cell_type": "markdown",
   "id": "a6bb7eb5-eea4-4c0e-a6bc-26b4961dfc79",
   "metadata": {},
   "source": [
    "A database is a collection of related data that is stored and organized in a way that enables easy access, retrieval, and management. A database management system (DBMS) is a software system that allows users to define, create, and manage databases.\n",
    "\n",
    "SQL (Structured Query Language) and NoSQL (Not Only SQL) are two main types of database management systems. SQL databases are relational databases that store data in tables with predefined columns and data types. They use SQL as the primary language for querying and manipulating data, and are designed to handle structured data. Examples of SQL databases include MySQL, Oracle, and Microsoft SQL Server.\n",
    "\n",
    "On the other hand, NoSQL databases are non-relational databases that store data in a flexible, unstructured way. They do not use SQL as the primary language, but instead use other query languages or APIs. NoSQL databases are designed to handle semi-structured or unstructured data, such as JSON, XML, or key-value pairs. Examples of NoSQL databases include MongoDB, Cassandra, and Couchbase.\n",
    "\n",
    "The main differences between SQL and NoSQL databases are as follows:\n",
    "\n",
    "1. Data Structure: SQL databases use a tabular structure with predefined columns and data types, while NoSQL databases use a flexible schema that can handle unstructured and semi-structured data.\n",
    "\n",
    "2. Query Language: SQL databases use SQL as the primary language for querying and manipulating data, while NoSQL databases use other query languages or APIs.\n",
    "\n",
    "3. Scalability: NoSQL databases are designed to be horizontally scalable, meaning that they can handle large amounts of data and traffic by adding more nodes to a cluster. SQL databases can also be scaled horizontally, but it requires more effort and planning.\n",
    "\n",
    "4. Data Integrity: SQL databases enforce strong data integrity and consistency through the use of constraints, transactions, and foreign key relationships. NoSQL databases offer weaker data integrity and consistency guarantees, but they offer higher availability and partition tolerance.\n",
    "\n",
    "In summary, SQL databases are best suited for handling structured data with well-defined relationships between tables, while NoSQL databases are better suited for handling semi-structured or unstructured data that requires flexibility and scalability."
   ]
  },
  {
   "cell_type": "markdown",
   "id": "d3200c2f-8e55-48b1-87c5-82702b710a54",
   "metadata": {},
   "source": [
    "### Question 2"
   ]
  },
  {
   "cell_type": "markdown",
   "id": "1c7ee5a1-36d9-4d13-8dfc-c665d2b4d32f",
   "metadata": {},
   "source": [
    "What is DDL? Explain why CREATE, DROP, ALTER, and TRUNCATE are used with an example."
   ]
  },
  {
   "cell_type": "markdown",
   "id": "9248e131-85cb-41a7-9a2a-caa3411e3a24",
   "metadata": {},
   "source": [
    "### Answer"
   ]
  },
  {
   "cell_type": "markdown",
   "id": "e500927c-ffee-4192-986b-040419e6bab3",
   "metadata": {},
   "source": [
    "DDL stands for Data Definition Language, which is a subset of SQL used to define and manipulate the structure of a database. DDL statements are used to create, modify, and delete database objects such as tables, indexes, and constraints. The four main DDL statements are CREATE, DROP, ALTER, and TRUNCATE, and they are used for the following purposes:\n",
    "\n",
    "1. CREATE: The CREATE statement is used to create new database objects such as tables, indexes, and views. For example, the following SQL statement creates a new table named \"employees\" with three columns: \"id\", \"name\", and \"salary\":"
   ]
  },
  {
   "cell_type": "code",
   "execution_count": null,
   "id": "ab129a14-bd9a-4aee-972b-5ac7dd9b8d3a",
   "metadata": {},
   "outputs": [],
   "source": [
    "CREATE TABLE employees (\n",
    "   id INT PRIMARY KEY,\n",
    "   name VARCHAR(50) NOT NULL,\n",
    "   salary DECIMAL(10,2) NOT NULL\n",
    ");"
   ]
  },
  {
   "cell_type": "markdown",
   "id": "e0e90645-3e8c-4989-a52a-0ef398b1cad0",
   "metadata": {},
   "source": [
    "2. DROP: The DROP statement is used to delete existing database objects such as tables, indexes, and views. For example, the following SQL statement deletes the \"employees\" table:"
   ]
  },
  {
   "cell_type": "code",
   "execution_count": null,
   "id": "8c1feb91-7550-477f-b28f-4efae8f1ca55",
   "metadata": {},
   "outputs": [],
   "source": [
    "DROP TABLE employees;"
   ]
  },
  {
   "cell_type": "markdown",
   "id": "32e3e823-e94b-4531-9220-f2e41a7c1e7f",
   "metadata": {},
   "source": [
    "3. ALTER: The ALTER statement is used to modify the structure of existing database objects such as tables, indexes, and views. For example, the following SQL statement adds a new column named \"email\" to the \"employees\" table:"
   ]
  },
  {
   "cell_type": "code",
   "execution_count": null,
   "id": "92dc216a-57be-4061-a338-4793d4965962",
   "metadata": {},
   "outputs": [],
   "source": [
    "ALTER TABLE employees ADD COLUMN email VARCHAR(50);"
   ]
  },
  {
   "cell_type": "markdown",
   "id": "3e931c01-4c7d-4333-82a5-0e3f194e2d2c",
   "metadata": {},
   "source": [
    "4. TRUNCATE: The TRUNCATE statement is used to delete all the data in a table, while keeping the table structure intact. It is faster than using the DELETE statement for large tables. For example, the following SQL statement deletes all the data in the \"employees\" table:"
   ]
  },
  {
   "cell_type": "code",
   "execution_count": null,
   "id": "978db0d4-df11-4225-a1e7-3ee1381dd46d",
   "metadata": {},
   "outputs": [],
   "source": [
    "TRUNCATE TABLE employees;"
   ]
  },
  {
   "cell_type": "markdown",
   "id": "2112f2b6-e5a1-4313-a188-55e84dc938c2",
   "metadata": {},
   "source": [
    "In summary, CREATE, DROP, ALTER, and TRUNCATE are important DDL statements used to define and manipulate the structure of a database. CREATE is used to create new database objects, DROP is used to delete existing objects, ALTER is used to modify existing objects, and TRUNCATE is used to delete all the data in a table."
   ]
  },
  {
   "cell_type": "markdown",
   "id": "b2ad7670-89d2-4635-a40c-a9091ec20fe4",
   "metadata": {},
   "source": [
    "### Question 3"
   ]
  },
  {
   "cell_type": "markdown",
   "id": "47840879-2358-422a-a2df-471446404e68",
   "metadata": {},
   "source": [
    "What is DML? Explain INSERT, UPDATE, and DELETE with an example."
   ]
  },
  {
   "cell_type": "markdown",
   "id": "b66fe4e7-c3c0-4ab3-bc63-f1b81f467e5c",
   "metadata": {},
   "source": [
    "### Answer "
   ]
  },
  {
   "cell_type": "markdown",
   "id": "5663da14-af44-4597-9ed4-ba482d996095",
   "metadata": {},
   "source": [
    "DML stands for Data Manipulation Language, which is a subset of SQL used to manipulate the data stored in a database. DML statements are used to insert, update, and delete data in database tables. The three main DML statements are INSERT, UPDATE, and DELETE, and they are used for the following purposes:\n",
    "\n",
    "1. INSERT: The INSERT statement is used to insert new rows of data into a table. For example, the following SQL statement inserts a new row into a table named \"employees\" with values for the \"id\", \"name\", and \"salary\" columns:"
   ]
  },
  {
   "cell_type": "code",
   "execution_count": null,
   "id": "5806ed2c-2d95-4bde-ab93-6eb3c650bd6b",
   "metadata": {},
   "outputs": [],
   "source": [
    "INSERT INTO employees (id, name, salary) VALUES (1, 'John', 50000);"
   ]
  },
  {
   "cell_type": "markdown",
   "id": "05d8d44d-929f-41ef-9a30-76e2929d9df4",
   "metadata": {},
   "source": [
    "2. UPDATE: The UPDATE statement is used to modify existing rows of data in a table. For example, the following SQL statement updates the salary of the employee with the id of 1 to 60000:"
   ]
  },
  {
   "cell_type": "code",
   "execution_count": null,
   "id": "7c5ea293-e575-4988-8e29-e34fa5156b9c",
   "metadata": {},
   "outputs": [],
   "source": [
    "UPDATE employees SET salary = 60000 WHERE id = 1;"
   ]
  },
  {
   "cell_type": "markdown",
   "id": "2a1d9132-5ce2-44d1-ae3c-b83a45473e12",
   "metadata": {},
   "source": [
    "3. DELETE: The DELETE statement is used to delete existing rows of data from a table. For example, the following SQL statement deletes the employee with the id of 1:"
   ]
  },
  {
   "cell_type": "code",
   "execution_count": null,
   "id": "76aace9f-dc94-4916-b9a9-cdc225672b92",
   "metadata": {},
   "outputs": [],
   "source": [
    "DELETE FROM employees WHERE id = 1;"
   ]
  },
  {
   "cell_type": "markdown",
   "id": "438b722e-f621-4f36-9af2-7407c6255a5c",
   "metadata": {},
   "source": [
    "In summary, INSERT, UPDATE, and DELETE are important DML statements used to manipulate the data stored in a database. INSERT is used to insert new rows of data, UPDATE is used to modify existing rows of data, and DELETE is used to delete existing rows of data."
   ]
  },
  {
   "cell_type": "markdown",
   "id": "fa4cbfa5-c264-4db9-ad32-d9a10c1058de",
   "metadata": {},
   "source": [
    "### Question 4"
   ]
  },
  {
   "cell_type": "markdown",
   "id": "c83706a8-9f3f-45a1-8630-8c0feb7596e1",
   "metadata": {},
   "source": [
    "What is DQL? Explain SELECT with an example."
   ]
  },
  {
   "cell_type": "markdown",
   "id": "55c5e513-7b55-483e-9976-e255fdca9eb2",
   "metadata": {},
   "source": [
    "### Answer"
   ]
  },
  {
   "cell_type": "markdown",
   "id": "6c37ce90-2ff8-4114-b969-391bf964b209",
   "metadata": {},
   "source": [
    "DQL stands for Data Query Language, which is a subset of SQL used to retrieve data from a database. DQL statements are used to select, filter, and sort data in database tables. The main DQL statement is SELECT, and it is used to retrieve data from one or more tables in a database. The SELECT statement is very powerful and flexible, and it can be used to retrieve data in many different ways.\n",
    "\n",
    "The basic syntax of a SELECT statement is as follows:"
   ]
  },
  {
   "cell_type": "code",
   "execution_count": null,
   "id": "2dde3dbf-a1f2-4cfa-a584-fe825e961d8c",
   "metadata": {},
   "outputs": [],
   "source": [
    "SELECT column1, column2, ... FROM table_name WHERE condition;"
   ]
  },
  {
   "cell_type": "markdown",
   "id": "9dbe92e3-1cfa-4386-96cc-d9e50a1892d9",
   "metadata": {},
   "source": [
    "Here, \"column1\", \"column2\", etc. are the names of the columns that you want to retrieve data from, and \"table_name\" is the name of the table that you want to retrieve data from. The \"WHERE\" clause is optional, and it is used to specify a condition that the rows must meet in order to be included in the result set.\n",
    "\n",
    "For example, suppose we have a table named \"employees\" with columns named \"id\", \"name\", and \"salary\". We can retrieve all the data from the table using the following SQL statement:"
   ]
  },
  {
   "cell_type": "code",
   "execution_count": null,
   "id": "99321b64-07a0-46da-9cf3-062cc7c9aa45",
   "metadata": {},
   "outputs": [],
   "source": [
    "SELECT * FROM employees;"
   ]
  },
  {
   "cell_type": "markdown",
   "id": "229074c4-c4fb-4f19-a46d-8f44056bd01e",
   "metadata": {},
   "source": [
    "This will retrieve all the columns and rows from the \"employees\" table. If we only want to retrieve the \"name\" and \"salary\" columns, we can use the following SQL statement:"
   ]
  },
  {
   "cell_type": "code",
   "execution_count": null,
   "id": "04a874ad-45b1-49f0-8358-24c2baaa255e",
   "metadata": {},
   "outputs": [],
   "source": [
    "SELECT name, salary FROM employees;"
   ]
  },
  {
   "cell_type": "markdown",
   "id": "7039f309-6174-454f-883c-1b8ebc3130c6",
   "metadata": {},
   "source": [
    "If we only want to retrieve the rows where the salary is greater than 50000, we can use the following SQL statement:"
   ]
  },
  {
   "cell_type": "code",
   "execution_count": null,
   "id": "9d0b3ac9-cc95-4e0f-9aa1-13ed0b844095",
   "metadata": {},
   "outputs": [],
   "source": [
    "SELECT * FROM employees WHERE salary > 50000;"
   ]
  },
  {
   "cell_type": "markdown",
   "id": "aecfaa8a-3326-4203-a0dd-6dcb018a6a05",
   "metadata": {},
   "source": [
    "In summary, SELECT is the main DQL statement used to retrieve data from a database. It is used to select columns from one or more tables, and it can be used to filter and sort the data in many different ways."
   ]
  },
  {
   "cell_type": "markdown",
   "id": "6810401e-1186-4276-aeff-2fe1e2a89524",
   "metadata": {},
   "source": [
    "### Question 5"
   ]
  },
  {
   "cell_type": "markdown",
   "id": "1bcee786-249c-4bc9-8e24-a6824892701e",
   "metadata": {},
   "source": [
    "Explain Primary Key and Foreign Key."
   ]
  },
  {
   "cell_type": "markdown",
   "id": "c096af02-8d8b-4f83-96d8-8b19dd7fb409",
   "metadata": {},
   "source": [
    "### Answer"
   ]
  },
  {
   "cell_type": "markdown",
   "id": "01dd83a8-aba8-4c94-97b2-2e22608f6b58",
   "metadata": {},
   "source": [
    "Primary Key and Foreign Key are two important concepts in relational database design.\n",
    "\n",
    "A Primary Key is a column or set of columns in a database table that uniquely identifies each row in that table. It is a unique identifier that is used to ensure the integrity and consistency of the data in the table. A Primary Key cannot be null, meaning that every row in the table must have a unique value in the Primary Key column(s). Primary Keys are used to enforce constraints on the data in a table and to create relationships between tables.\n",
    "\n",
    "For example, consider a table named \"employees\" with columns named \"id\", \"name\", and \"salary\". We can make \"id\" a Primary Key column to ensure that each employee has a unique id. This will prevent any duplicate or inconsistent data from being entered into the table.\n",
    "\n",
    "A Foreign Key is a column or set of columns in a database table that refers to the Primary Key column(s) in another table. It is used to establish relationships between tables, and to enforce referential integrity. A Foreign Key column in one table must match a Primary Key column in another table. This ensures that the data in the Foreign Key column(s) is consistent with the data in the Primary Key column(s).\n",
    "\n",
    "For example, consider two tables named \"employees\" and \"departments\". The \"employees\" table has a Primary Key column named \"id\", and the \"departments\" table has a Primary Key column named \"dept_id\". We can create a Foreign Key column in the \"employees\" table named \"dept_id\" that refers to the \"dept_id\" column in the \"departments\" table. This will ensure that every \"dept_id\" in the \"employees\" table is a valid \"dept_id\" in the \"departments\" table.\n",
    "\n",
    "In summary, Primary Keys and Foreign Keys are important concepts in relational database design. Primary Keys are used to uniquely identify each row in a table, while Foreign Keys are used to establish relationships between tables and enforce referential integrity."
   ]
  },
  {
   "cell_type": "markdown",
   "id": "18281297-d57e-4c02-9a08-b064b9dc3e90",
   "metadata": {},
   "source": [
    "### Question 6"
   ]
  },
  {
   "cell_type": "markdown",
   "id": "79141a00-159f-4845-9d0d-46612daf5e90",
   "metadata": {},
   "source": [
    "Write a python code to connect MySQL to python. Explain the cursor() and execute() method."
   ]
  },
  {
   "cell_type": "markdown",
   "id": "a1d3fa64-34d2-4167-905f-d2609a1c7abb",
   "metadata": {},
   "source": [
    "### Answer"
   ]
  },
  {
   "cell_type": "markdown",
   "id": "79216ee8-a479-43a5-a2a5-6d9b038a8927",
   "metadata": {},
   "source": [
    "Here's an example Python code to connect to MySQL from Python using the mysql-connector module:"
   ]
  },
  {
   "cell_type": "code",
   "execution_count": null,
   "id": "526b1c5f-9a48-4a6b-b554-063ae5c6fdb4",
   "metadata": {},
   "outputs": [],
   "source": [
    "import mysql.connector\n",
    "\n",
    "# create a connection object\n",
    "mydb = mysql.connector.connect(\n",
    "  host=\"localhost\",\n",
    "  user=\"username\",\n",
    "  password=\"password\",\n",
    "  database=\"mydatabase\"\n",
    ")\n",
    "\n",
    "# create a cursor object\n",
    "mycursor = mydb.cursor()\n",
    "\n",
    "# execute a SQL query\n",
    "mycursor.execute(\"SELECT * FROM customers\")\n",
    "\n",
    "# fetch all the results\n",
    "myresult = mycursor.fetchall()\n",
    "\n",
    "# print the results\n",
    "for row in myresult:\n",
    "  print(row)\n"
   ]
  },
  {
   "cell_type": "markdown",
   "id": "c461d08a-14ed-4120-9cc7-00fbdcbeef19",
   "metadata": {},
   "source": [
    "In this example, we first import the mysql.connector module. Then, we create a connection object by specifying the database details such as the host, username, password, and database name. Next, we create a cursor object using the cursor() method of the connection object.\n",
    "\n",
    "The cursor object is used to execute SQL queries on the database. We can use the execute() method of the cursor object to execute any SQL query. In this example, we execute a SELECT statement to retrieve all the data from the \"customers\" table.\n",
    "\n",
    "Once we execute the query, we use the fetchall() method of the cursor object to fetch all the results. This returns a list of tuples, where each tuple represents a row in the result set.\n",
    "\n",
    "Finally, we loop through the result set and print each row.\n",
    "\n",
    "The cursor() method is used to create a cursor object, which is used to execute SQL queries on the database. The cursor object provides several methods to interact with the database, such as execute(), fetchone(), fetchall(), commit(), and rollback(), among others.\n",
    "\n",
    "The execute() method is used to execute a SQL query on the database. It takes a single argument, which is the SQL query to be executed. We can use placeholders in the SQL query and pass values using a tuple or a dictionary. The execute() method returns None, but it modifies the state of the cursor object, such as the number of rows affected by the query.\n",
    "\n",
    "In summary, the cursor() and execute() methods are used to interact with a MySQL database from Python. The cursor() method creates a cursor object, while the execute() method is used to execute SQL queries on the database."
   ]
  },
  {
   "cell_type": "markdown",
   "id": "6e1aac13-e27d-4326-ab88-322bcff3cb1e",
   "metadata": {},
   "source": [
    "### Question 7"
   ]
  },
  {
   "cell_type": "markdown",
   "id": "c72bd7f5-f3a1-4b10-997a-97a8e93c9cd7",
   "metadata": {},
   "source": [
    "Give the order of execution of SQL clauses in an SQL query."
   ]
  },
  {
   "cell_type": "markdown",
   "id": "9f637293-6da8-41ac-9e39-bda83696291e",
   "metadata": {},
   "source": [
    "### Answer"
   ]
  },
  {
   "cell_type": "markdown",
   "id": "33432811-6811-469a-a593-28142053d334",
   "metadata": {},
   "source": [
    "In an SQL query, the clauses are executed in the following order:\n",
    "\n",
    "1. SELECT - specifies the columns to be retrieved from one or more tables.\n",
    "2. FROM - specifies the table or tables from which to retrieve the data.\n",
    "3. JOIN - combines rows from two or more tables based on a related column between them.\n",
    "4. WHERE - filters the rows based on a specified condition.\n",
    "4. GROUP BY - groups the rows based on a specified column or expression.\n",
    "5. HAVING - filters the groups based on a specified condition.\n",
    "6. ORDER BY - sorts the rows based on a specified column or expression.\n",
    "7. LIMIT - specifies the maximum number of rows to be returned.\n",
    "\n",
    "Note that not all clauses are required in every SQL query, and some clauses may appear multiple times in a single query. However, the clauses are executed in the order listed above, and each clause operates on the results of the previous clause. For example, the WHERE clause filters the rows retrieved by the FROM and JOIN clauses, and the GROUP BY clause groups the rows filtered by the WHERE clause."
   ]
  },
  {
   "cell_type": "code",
   "execution_count": null,
   "id": "27d03bd0-fea3-4d5a-ad13-379b419ce2e8",
   "metadata": {},
   "outputs": [],
   "source": []
  }
 ],
 "metadata": {
  "kernelspec": {
   "display_name": "Python 3 (ipykernel)",
   "language": "python",
   "name": "python3"
  },
  "language_info": {
   "codemirror_mode": {
    "name": "ipython",
    "version": 3
   },
   "file_extension": ".py",
   "mimetype": "text/x-python",
   "name": "python",
   "nbconvert_exporter": "python",
   "pygments_lexer": "ipython3",
   "version": "3.10.8"
  }
 },
 "nbformat": 4,
 "nbformat_minor": 5
}
