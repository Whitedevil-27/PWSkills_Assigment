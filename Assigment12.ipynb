{
 "cells": [
  {
   "cell_type": "markdown",
   "id": "ca420f4b-9db8-4d81-a6b7-2aecca5af311",
   "metadata": {},
   "source": [
    "## Assigment"
   ]
  },
  {
   "cell_type": "markdown",
   "id": "759bd135-957e-42e8-a35a-2268046ecdbb",
   "metadata": {},
   "source": [
    "### Question 1"
   ]
  },
  {
   "cell_type": "markdown",
   "id": "446b30a4-c795-4c82-bfc6-b4099067e9e9",
   "metadata": {},
   "source": [
    "What is an Exception in python? Write the difference between Exceptions and Syntax errors."
   ]
  },
  {
   "cell_type": "markdown",
   "id": "f9175c4b-5744-4586-9d7e-404ba68fd5a6",
   "metadata": {},
   "source": [
    "### Answer"
   ]
  },
  {
   "cell_type": "markdown",
   "id": "bec13cbf-57df-4d4e-b5e1-23770b97c8fa",
   "metadata": {},
   "source": [
    "In Python, an exception is an error that occurs during the execution of a program. When an exception occurs, the program terminates and displays an error message that provides information about the cause of the error.\n",
    "\n",
    "Exceptions can occur for various reasons, such as trying to access a file that does not exist, dividing a number by zero, or calling a method that does not exist.\n",
    "\n",
    "The main difference between exceptions and syntax errors is that syntax errors are errors that occur during the parsing of a program, while exceptions are errors that occur during the execution of a program.\n",
    "\n",
    "Syntax errors are usually caused by incorrect syntax, such as misspelled keywords, missing or extra parentheses, or incorrect indentation. Syntax errors prevent the program from running at all, as the Python interpreter is unable to parse the code.\n",
    "\n",
    "Exceptions, on the other hand, occur during the execution of a program and can be caused by a variety of factors, such as invalid input, unexpected conditions, or resource limitations. Exceptions can be caught and handled by the program using exception handling mechanisms, such as try-except blocks.\n",
    "\n",
    "In summary, exceptions are errors that occur during the execution of a program, while syntax errors are errors that occur during the parsing of a program due to incorrect syntax. Exceptions can be caught and handled by the program, while syntax errors must be fixed before the program can run."
   ]
  },
  {
   "cell_type": "markdown",
   "id": "e874f513-e3a7-46fc-a134-1ae99c027952",
   "metadata": {},
   "source": [
    "### Question 2"
   ]
  },
  {
   "cell_type": "markdown",
   "id": "7df46685-af55-4cce-9b9b-d2ed4f9a2e30",
   "metadata": {},
   "source": [
    "What happens when an exception is not handled? Explain with an example."
   ]
  },
  {
   "cell_type": "markdown",
   "id": "77115d8e-d678-4621-a9b8-1a73d79f2695",
   "metadata": {},
   "source": [
    "### Answer"
   ]
  },
  {
   "cell_type": "markdown",
   "id": "f3bfaec6-5e15-4b3d-9567-c952830e5678",
   "metadata": {},
   "source": [
    "When an exception is not handled in a Python program, the program will terminate abruptly and an error message will be displayed. This is because when an exception is raised and not handled, the program does not know how to proceed and cannot recover from the error.\n",
    "\n",
    "Here's an example:"
   ]
  },
  {
   "cell_type": "code",
   "execution_count": 1,
   "id": "47abfce2-5320-41bc-9bb5-33e975c21ceb",
   "metadata": {},
   "outputs": [
    {
     "ename": "ZeroDivisionError",
     "evalue": "division by zero",
     "output_type": "error",
     "traceback": [
      "\u001b[0;31m---------------------------------------------------------------------------\u001b[0m",
      "\u001b[0;31mZeroDivisionError\u001b[0m                         Traceback (most recent call last)",
      "Cell \u001b[0;32mIn[1], line 2\u001b[0m\n\u001b[1;32m      1\u001b[0m \u001b[38;5;66;03m# Attempt to divide by zero\u001b[39;00m\n\u001b[0;32m----> 2\u001b[0m result \u001b[38;5;241m=\u001b[39m \u001b[38;5;241;43m10\u001b[39;49m\u001b[43m \u001b[49m\u001b[38;5;241;43m/\u001b[39;49m\u001b[43m \u001b[49m\u001b[38;5;241;43m0\u001b[39;49m\n\u001b[1;32m      4\u001b[0m \u001b[38;5;66;03m# This line will never be executed\u001b[39;00m\n\u001b[1;32m      5\u001b[0m \u001b[38;5;28mprint\u001b[39m(\u001b[38;5;124m\"\u001b[39m\u001b[38;5;124mResult:\u001b[39m\u001b[38;5;124m\"\u001b[39m, result)\n",
      "\u001b[0;31mZeroDivisionError\u001b[0m: division by zero"
     ]
    }
   ],
   "source": [
    "# Attempt to divide by zero\n",
    "result = 10 / 0\n",
    "\n",
    "# This line will never be executed\n",
    "print(\"Result:\", result)\n"
   ]
  },
  {
   "cell_type": "markdown",
   "id": "9dd2d4da-9496-4891-a876-13ed1c945f85",
   "metadata": {},
   "source": [
    "In the above example, we attempt to divide the number 10 by 0, which is an invalid operation and raises a ZeroDivisionError exception. Since we have not included any exception handling code to handle this exception, the program will terminate abruptly and display an error message (shown above):"
   ]
  },
  {
   "cell_type": "markdown",
   "id": "e801f885-f2e8-4621-ba9c-e34905950e76",
   "metadata": {},
   "source": [
    "To handle this exception, we can use a try-except block to catch the exception and handle it appropriately:"
   ]
  },
  {
   "cell_type": "code",
   "execution_count": null,
   "id": "72f57e67-863e-43d6-b01e-a0873a9bfd1a",
   "metadata": {},
   "outputs": [],
   "source": [
    "try:\n",
    "    # Attempt to divide by zero\n",
    "    result = 10 / 0\n",
    "except ZeroDivisionError:\n",
    "    # Handle the exception\n",
    "    print(\"Cannot divide by zero\")\n",
    "\n",
    "# This line will be executed even if the exception is raised\n",
    "print(\"Result:\", result)"
   ]
  },
  {
   "cell_type": "markdown",
   "id": "15808c1d-56c8-4c89-9c8c-31a33e932d6f",
   "metadata": {},
   "source": [
    "In the above example, we use a try-except block to catch the ZeroDivisionError exception that is raised when we attempt to divide by zero. If the exception is raised, the program will execute the code in the except block instead of terminating abruptly. In this case, we simply print a message indicating that we cannot divide by zero. The program will then continue executing the remaining code, which in this case is a print statement that displays the value of result, even though it is not defined due to the exception."
   ]
  },
  {
   "cell_type": "markdown",
   "id": "d0e7b625-a7cc-4f41-8794-e50eeee01e6f",
   "metadata": {},
   "source": [
    "### Question 3"
   ]
  },
  {
   "cell_type": "markdown",
   "id": "e46f785c-dcfa-4634-9a5d-49256d16eb04",
   "metadata": {},
   "source": [
    "Which python statements are used to catch and handle exceptions? Explain with an example."
   ]
  },
  {
   "cell_type": "markdown",
   "id": "2fbf0f96-a6cf-41a3-921f-a8699a00436e",
   "metadata": {},
   "source": [
    "### Answer"
   ]
  },
  {
   "cell_type": "markdown",
   "id": "605ad226-7393-4d0c-9906-43585ad8cca0",
   "metadata": {},
   "source": [
    "In Python, the try and except statements are used to catch and handle exceptions. The basic syntax of a try-except block is as follows:"
   ]
  },
  {
   "cell_type": "code",
   "execution_count": null,
   "id": "a841d445-79d0-42e4-8e0d-f6ec19f2f738",
   "metadata": {},
   "outputs": [],
   "source": [
    "try:\n",
    "    # code that may raise an exception\n",
    "except ExceptionType:\n",
    "    # code to handle the exception\n"
   ]
  },
  {
   "cell_type": "markdown",
   "id": "78f5f9d3-388c-4656-a141-d971136e001e",
   "metadata": {},
   "source": [
    "The try block contains the code that may raise an exception, and the except block contains the code that will be executed if the specified exception occurs. The ExceptionType argument is optional, and if it is omitted, the except block will handle all exceptions.\n",
    "\n",
    "Here's an example that demonstrates how to use a try-except block to catch and handle a ValueError exception:"
   ]
  },
  {
   "cell_type": "code",
   "execution_count": null,
   "id": "8a8ddf7c-8c0a-4bee-980d-9ec7bbfb34aa",
   "metadata": {},
   "outputs": [],
   "source": [
    "try:\n",
    "    # Prompt the user to enter an integer\n",
    "    num = int(input(\"Enter an integer: \"))\n",
    "except ValueError:\n",
    "    # Handle the exception\n",
    "    print(\"Invalid input. Please enter an integer.\")\n",
    "\n",
    "# This line will be executed even if the exception is raised\n",
    "print(\"The number entered is:\", num)\n"
   ]
  },
  {
   "cell_type": "markdown",
   "id": "e1e8382a-34fb-4007-8f38-df7cc235eeb9",
   "metadata": {},
   "source": [
    "In the above example, we use a try-except block to catch and handle a ValueError exception that may occur when we attempt to convert the user's input to an integer using the int() function. If the exception is raised, the program will execute the code in the except block, which prints a message indicating that the input is invalid. The program will then continue executing the remaining code, which in this case is a print statement that displays the number entered by the user.\n",
    "\n",
    "Note that in this example, even if an exception is raised, the num variable is still defined and can be used later in the program. This is because the try-except block catches and handles the exception, allowing the program to continue executing."
   ]
  },
  {
   "cell_type": "markdown",
   "id": "190d7bac-15f9-411b-9aef-bf65bb37aa73",
   "metadata": {},
   "source": [
    "### Question 4"
   ]
  },
  {
   "cell_type": "markdown",
   "id": "0a9cab86-9bea-4faf-b4c7-0ec285f2f85c",
   "metadata": {},
   "source": [
    "Explain with an example\n",
    "1. try and else\n",
    "2. finally\n",
    "3. raise"
   ]
  },
  {
   "cell_type": "markdown",
   "id": "80a79d92-0175-4596-b0b6-b0c7cd4a2770",
   "metadata": {},
   "source": [
    "### Answer"
   ]
  },
  {
   "cell_type": "markdown",
   "id": "c0e57cc8-02d7-489b-a59d-fd0103e83fd9",
   "metadata": {},
   "source": [
    "1. try and else:\n",
    "In addition to the except block, a try block can also be followed by an else block. The else block contains code that will be executed if no exceptions are raised in the try block. Here's an example:"
   ]
  },
  {
   "cell_type": "code",
   "execution_count": 3,
   "id": "5117ff15-3aa7-4894-b5a3-a6e2e6971676",
   "metadata": {},
   "outputs": [
    {
     "name": "stdin",
     "output_type": "stream",
     "text": [
      "Enter a number:  10\n",
      "Enter another number:  2\n"
     ]
    },
    {
     "name": "stdout",
     "output_type": "stream",
     "text": [
      "The result is: 5.0\n"
     ]
    }
   ],
   "source": [
    "try:\n",
    "    num1 = int(input(\"Enter a number: \"))\n",
    "    num2 = int(input(\"Enter another number: \"))\n",
    "    result = num1 / num2\n",
    "except ValueError:\n",
    "    print(\"Invalid input.\")\n",
    "except ZeroDivisionError:\n",
    "    print(\"Cannot divide by zero.\")\n",
    "else:\n",
    "    print(\"The result is:\", result)"
   ]
  },
  {
   "cell_type": "markdown",
   "id": "9e8ae989-6ca6-4af4-b9e8-03cfa2f032a0",
   "metadata": {},
   "source": [
    "In the above example, we use a try block to attempt to divide two numbers entered by the user. If a ValueError or ZeroDivisionError exception occurs, the appropriate error message will be printed. If no exceptions occur, the program will execute the code in the else block, which prints the result of the division."
   ]
  },
  {
   "cell_type": "markdown",
   "id": "9b01226a-d72b-44c7-8baa-fd59512ab806",
   "metadata": {},
   "source": [
    "2. finally:\n",
    "The finally block is used to specify code that will be executed regardless of whether an exception is raised or not. This can be useful for performing cleanup tasks such as closing files or releasing resources. Here's an example:"
   ]
  },
  {
   "cell_type": "code",
   "execution_count": null,
   "id": "b13ff733-7eaf-4a86-8711-bdc45f2e382d",
   "metadata": {},
   "outputs": [],
   "source": [
    "try:\n",
    "    file = open(\"example.txt\", \"r\")\n",
    "    # Perform operations on the file\n",
    "finally:\n",
    "    file.close()\n"
   ]
  },
  {
   "cell_type": "markdown",
   "id": "b7665f03-c461-4590-844e-45e1002e9c5f",
   "metadata": {},
   "source": [
    "In the above example, we use a try block to open a file and perform operations on it. Regardless of whether an exception is raised or not, the finally block will be executed, which closes the file."
   ]
  },
  {
   "cell_type": "markdown",
   "id": "e575a982-05ad-4f20-ad58-604151ecaf78",
   "metadata": {},
   "source": [
    "3. raise:\n",
    "The raise statement is used to explicitly raise an exception. This can be useful for creating custom exceptions or for handling unexpected conditions in a program. Here's an example:"
   ]
  },
  {
   "cell_type": "code",
   "execution_count": null,
   "id": "3f3914cc-c263-45f8-8d62-d4d4845a1b26",
   "metadata": {},
   "outputs": [],
   "source": [
    "age = int(input(\"Enter your age: \"))\n",
    "if age < 0:\n",
    "    raise ValueError(\"Age cannot be negative.\")\n",
    "else:\n",
    "    print(\"Your age is:\", age)\n"
   ]
  },
  {
   "cell_type": "markdown",
   "id": "0c72ce11-66e4-4875-b846-b60b558ac497",
   "metadata": {},
   "source": [
    "In the above example, we use an if statement to check whether the user's age is negative. If it is, we raise a ValueError exception with a custom error message. If the age is non-negative, we print a message indicating the age. Note that the raise statement is followed by the type of exception to be raised (ValueError), as well as a custom error message."
   ]
  },
  {
   "cell_type": "markdown",
   "id": "b333f46c-455b-407c-9e32-cd79aa34f40d",
   "metadata": {},
   "source": [
    "### Question 5"
   ]
  },
  {
   "cell_type": "markdown",
   "id": "c4889a9e-853f-4a22-82d9-4657c93063c1",
   "metadata": {},
   "source": [
    "### What are Custom Exceptions in python? Why do we need Custom Exceptions? Explain with an example."
   ]
  },
  {
   "cell_type": "markdown",
   "id": "62de8dbe-f634-46a3-82c5-b6800de4762b",
   "metadata": {},
   "source": [
    "### Answer"
   ]
  },
  {
   "cell_type": "markdown",
   "id": "ef5b5cee-73e5-4d3a-9b80-4818f1f8d7e6",
   "metadata": {},
   "source": [
    "Custom exceptions in Python are user-defined exceptions that can be raised in a program to handle specific error conditions. They are derived from the base Exception class, and can provide additional context and information about the error that occurred. Custom exceptions can help make code more readable and maintainable, by allowing developers to explicitly handle different types of errors and exceptions.\n",
    "\n",
    "Here's an example of creating and using a custom exception:"
   ]
  },
  {
   "cell_type": "code",
   "execution_count": 4,
   "id": "3c18c5f6-0551-4dd2-8748-da7c4dc00136",
   "metadata": {},
   "outputs": [
    {
     "name": "stdin",
     "output_type": "stream",
     "text": [
      "Enter a username:  oli123saurabh\n"
     ]
    },
    {
     "name": "stdout",
     "output_type": "stream",
     "text": [
      "User oli123saurabh registered successfully.\n"
     ]
    }
   ],
   "source": [
    "class InvalidUsernameError(Exception):\n",
    "    \"\"\"Exception raised for invalid usernames.\"\"\"\n",
    "    pass\n",
    "\n",
    "def register_user(username):\n",
    "    if not username.isalnum():\n",
    "        raise InvalidUsernameError(\"Username must be alphanumeric.\")\n",
    "    # Perform user registration\n",
    "    print(f\"User {username} registered successfully.\")\n",
    "\n",
    "username = input(\"Enter a username: \")\n",
    "try:\n",
    "    register_user(username)\n",
    "except InvalidUsernameError as e:\n",
    "    print(\"Error:\", e)\n"
   ]
  },
  {
   "cell_type": "markdown",
   "id": "922c040f-bb7f-4ac3-8802-a5238ffea81e",
   "metadata": {},
   "source": [
    "In this example, we define a custom exception called InvalidUsernameError, which is raised when a username is not alphanumeric. The register_user() function takes a username as input and raises an InvalidUsernameError if the username is invalid. If the registration is successful, the function prints a message indicating that the user was registered.\n",
    "\n",
    "In the main part of the code, we prompt the user to enter a username and attempt to register it using the register_user() function. If an InvalidUsernameError is raised during registration, we catch the exception and print an error message.\n",
    "\n",
    "By using a custom exception in this example, we can explicitly handle the case where a username is not alphanumeric, and provide a meaningful error message to the user. This can help improve the usability and maintainability of the code."
   ]
  },
  {
   "cell_type": "markdown",
   "id": "24fda22e-469e-4a08-beac-c09950ac68c5",
   "metadata": {},
   "source": [
    "### Question 6"
   ]
  },
  {
   "cell_type": "markdown",
   "id": "fbce7d98-fa8e-4bfc-b313-6d9c86f6afba",
   "metadata": {},
   "source": [
    "Create a custom exception class. Use this class to handle an exception."
   ]
  },
  {
   "cell_type": "markdown",
   "id": "6a009f33-43fe-4cf1-aac7-2413e7065897",
   "metadata": {},
   "source": [
    "### Answer"
   ]
  },
  {
   "cell_type": "code",
   "execution_count": null,
   "id": "ee21bedf-0a59-4646-aca8-b5f5943dfa30",
   "metadata": {},
   "outputs": [],
   "source": [
    "class NegativeNumberError(Exception):\n",
    "    \"\"\"Exception raised for negative numbers.\"\"\"\n",
    "    pass\n",
    "\n",
    "def square_root(num):\n",
    "    if num < 0:\n",
    "        raise NegativeNumberError(\"Cannot calculate square root of a negative number.\")\n",
    "    return num ** 0.5\n",
    "\n",
    "try:\n",
    "    result = square_root(-4)\n",
    "    print(result)\n",
    "except NegativeNumberError as e:\n",
    "    print(\"Error:\", e)\n"
   ]
  },
  {
   "cell_type": "markdown",
   "id": "884ffa4a-b5ba-4e72-b206-c37092056b14",
   "metadata": {},
   "source": [
    "In this example, we define a custom exception class called NegativeNumberError, which is raised when an attempt is made to calculate the square root of a negative number. The square_root() function takes a number as input and raises a NegativeNumberError if the number is negative. If the number is non-negative, the function calculates and returns its square root.\n",
    "\n",
    "In the main part of the code, we attempt to calculate the square root of the negative number -4 using the square_root() function. Since this number is negative, an exception is raised and caught by the except block. The error message provided by the custom exception class is printed to the console.\n",
    "\n",
    "By using a custom exception in this example, we can explicitly handle the case where a negative number is provided as input to the square_root() function, and provide a meaningful error message to the user. This can help improve the usability and maintainability of the code."
   ]
  },
  {
   "cell_type": "code",
   "execution_count": null,
   "id": "d919c4c3-aff7-4c32-be1a-d01b1a380e4b",
   "metadata": {},
   "outputs": [],
   "source": []
  }
 ],
 "metadata": {
  "kernelspec": {
   "display_name": "Python 3 (ipykernel)",
   "language": "python",
   "name": "python3"
  },
  "language_info": {
   "codemirror_mode": {
    "name": "ipython",
    "version": 3
   },
   "file_extension": ".py",
   "mimetype": "text/x-python",
   "name": "python",
   "nbconvert_exporter": "python",
   "pygments_lexer": "ipython3",
   "version": "3.10.8"
  }
 },
 "nbformat": 4,
 "nbformat_minor": 5
}
