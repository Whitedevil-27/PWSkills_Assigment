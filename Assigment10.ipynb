{
 "cells": [
  {
   "cell_type": "markdown",
   "id": "5a153821-c852-437c-84d9-4fb894bb29b9",
   "metadata": {},
   "source": [
    "## Assigment"
   ]
  },
  {
   "cell_type": "markdown",
   "id": "f62e2917-4f61-4dda-b2f5-7868620e4429",
   "metadata": {},
   "source": [
    "### Question 1"
   ]
  },
  {
   "cell_type": "markdown",
   "id": "a6190925-c7e8-4cb7-a563-c5ccef1fd272",
   "metadata": {},
   "source": [
    "Which function is used to open a file? What are the different modes of opening a file? Explain each mode\n",
    "of file opening."
   ]
  },
  {
   "cell_type": "markdown",
   "id": "56397fa4-a9b9-492c-81aa-81b348f2cb99",
   "metadata": {},
   "source": [
    "### Answer"
   ]
  },
  {
   "cell_type": "markdown",
   "id": "ae5ee270-2bd6-4a71-b86f-06786ea8cacd",
   "metadata": {},
   "source": [
    "In Python, the open() function is used to open a file.\n",
    "\n",
    "Syntax:"
   ]
  },
  {
   "cell_type": "code",
   "execution_count": null,
   "id": "d841f406-3814-4855-bb6b-d155e607d503",
   "metadata": {},
   "outputs": [],
   "source": [
    "file_object = open(filename, mode)"
   ]
  },
  {
   "cell_type": "markdown",
   "id": "3d266ac1-b3bf-474d-8011-fde21126edbe",
   "metadata": {},
   "source": [
    "where filename is the name of the file to be opened, and mode is a string that represents the mode in which the file is to be opened.\n",
    "\n",
    "The mode parameter specifies the purpose for which the file is being opened. The following are the different modes in which a file can be opened:\n",
    "\n",
    "- 'r'  (Read Only): This mode is used to open a file for reading only. The file pointer is placed at the beginning of the file. If the file does not exist, an error will be raised.\n",
    "\n",
    "- 'w'  (Write Only): This mode is used to open a file for writing only. If the file already exists, it will be truncated to zero length. If the file does not exist, it will be created.\n",
    "\n",
    "- 'a'  (Append Only): This mode is used to open a file for appending data to the end of the file. If the file does not exist, it will be created.\n",
    "\n",
    "- 'x'  (Exclusive Creation): This mode is used to open a file for exclusive creation, meaning that the file must not already exist. If the file exists, an error will be raised.\n",
    "\n",
    "- 't'  (Text Mode): This mode is used to open a file in text mode, which is the default mode. In this mode, the data is treated as text and newlines are converted to the platform-specific newline character (i.e. '\\n' on Unix and '\\r\\n' on Windows).\n",
    "\n",
    "- 'b'  (Binary Mode): This mode is used to open a file in binary mode, which is used for non-text files (e.g. images, audio files). In this mode, data is read and written as raw bytes.\n",
    "\n",
    "- '+'  (Update Mode): This mode is used to open a file for both reading and writing (i.e. updating).\n",
    "\n",
    "Example usage:"
   ]
  },
  {
   "cell_type": "code",
   "execution_count": null,
   "id": "1a66ac7d-072b-45a7-a570-209b3c1614c5",
   "metadata": {},
   "outputs": [],
   "source": [
    "# Open a file for reading\n",
    "f = open('example.txt', 'r')\n",
    "\n",
    "# Open a file for writing\n",
    "f = open('example.txt', 'w')\n",
    "\n",
    "# Open a file for appending\n",
    "f = open('example.txt', 'a')\n",
    "\n",
    "# Open a file for exclusive creation\n",
    "f = open('example.txt', 'x')\n",
    "\n",
    "# Open a file in binary mode\n",
    "f = open('example.bin', 'rb')\n",
    "\n",
    "# Open a file for both reading and writing\n",
    "f = open('example.txt', 'r+')\n"
   ]
  },
  {
   "cell_type": "markdown",
   "id": "1e242bc8-083d-4589-ae74-2f2f160187f2",
   "metadata": {},
   "source": [
    "### Question 2"
   ]
  },
  {
   "cell_type": "markdown",
   "id": "84fbe513-56dc-41c6-9624-8b0d8bf8bc0f",
   "metadata": {},
   "source": [
    "Why close() function is used? Why is it important to close a file?"
   ]
  },
  {
   "cell_type": "markdown",
   "id": "cdfef5e7-4d02-4746-9882-c726b3db5a6a",
   "metadata": {},
   "source": [
    "### Answer"
   ]
  },
  {
   "cell_type": "markdown",
   "id": "e2c4ddb3-8a78-451e-acaa-afedb819e48a",
   "metadata": {},
   "source": [
    "In Python, 'close()' function is used to close an open file.\n",
    "\n",
    "Syntax:"
   ]
  },
  {
   "cell_type": "code",
   "execution_count": null,
   "id": "d56739ed-77e3-4770-a57e-1ea8b2dd2c90",
   "metadata": {},
   "outputs": [],
   "source": [
    "file_object.close()"
   ]
  },
  {
   "cell_type": "markdown",
   "id": "05949d37-10a0-46ed-8e07-77762db4d538",
   "metadata": {},
   "source": [
    "It is important to close a file after it has been opened and used, for the following reasons:\n",
    "\n",
    "+ Resource Management: When a file is opened, the operating system allocates some resources to it, such as memory and system file descriptors. If the file is not closed properly, these resources may not be released until the program terminates, which can lead to resource leakage and eventually slow down the system.\n",
    "\n",
    "+ Data Integrity: When a file is written to, the data is often buffered in memory before being written to disk. If the file is not closed properly, the buffer may not be flushed, which means that some of the data may be lost.\n",
    "\n",
    "+ Locking: In some cases, a file may be locked by the operating system or another program while it is being used. If the file is not closed properly, it may remain locked, preventing other programs or users from accessing it.\n",
    "\n",
    "Therefore, it is good practice to always close a file after it has been opened and used, to ensure that system resources are released, data is written to disk properly, and the file is unlocked for other programs or users to access.\n",
    "\n",
    "Example usage:"
   ]
  },
  {
   "cell_type": "code",
   "execution_count": null,
   "id": "5c47ce65-05fe-4236-8e40-30f0a69baa0f",
   "metadata": {},
   "outputs": [],
   "source": [
    "# Open a file for reading\n",
    "f = open('example.txt', 'r')\n",
    "\n",
    "# Read data from the file\n",
    "data = f.read()\n",
    "\n",
    "# Close the file\n",
    "f.close()\n"
   ]
  },
  {
   "cell_type": "markdown",
   "id": "ee409dfb-55c0-42b9-a904-20cc4279401e",
   "metadata": {},
   "source": [
    "### Question 3"
   ]
  },
  {
   "cell_type": "markdown",
   "id": "dc6a0e8d-4ed4-4771-9199-9d59e9a27bcd",
   "metadata": {},
   "source": [
    "Write a python program to create a text file. Write ‘I want to become a Data Scientist’ in that file. Then\n",
    "close the file. Open this file and read the content of the file."
   ]
  },
  {
   "cell_type": "markdown",
   "id": "98c57bbb-a36f-42bd-ac52-1066b2d87f20",
   "metadata": {},
   "source": [
    "### Answer"
   ]
  },
  {
   "cell_type": "code",
   "execution_count": 2,
   "id": "a3fde3c1-3b8f-4ca0-a392-17dcad606133",
   "metadata": {},
   "outputs": [
    {
     "name": "stdout",
     "output_type": "stream",
     "text": [
      "I want to become a Data Scientist\n"
     ]
    }
   ],
   "source": [
    "# Open file for writing\n",
    "with open('data_scientist.txt', 'w') as f:\n",
    "    f.write('I want to become a Data Scientist')\n",
    "\n",
    "# Open file for reading\n",
    "with open('data_scientist.txt', 'r') as f:\n",
    "    # Read the contents of the file\n",
    "    file_contents = f.read()\n",
    "\n",
    "# Print the contents of the file\n",
    "print(file_contents)\n"
   ]
  },
  {
   "cell_type": "markdown",
   "id": "27dd733d-c40b-4c26-b72c-9b21a6b8f220",
   "metadata": {},
   "source": [
    "### Question 4"
   ]
  },
  {
   "cell_type": "markdown",
   "id": "3af2eed5-aef8-450c-a874-ea597d0eccb8",
   "metadata": {},
   "source": [
    "Explain the following with python code: read(), readline() and readlines()."
   ]
  },
  {
   "cell_type": "markdown",
   "id": "13dd0499-8a34-402e-acc3-fa13fe6a573e",
   "metadata": {},
   "source": [
    "### Answer"
   ]
  },
  {
   "cell_type": "markdown",
   "id": "b6d5553f-c96f-4e97-8eab-d7099b8dad85",
   "metadata": {},
   "source": [
    "In Python, there are several ways to read data from a file. The following are the most commonly used methods:\n",
    "\n",
    "1. read(): This method reads the entire contents of the file and returns it as a single string.\n"
   ]
  },
  {
   "cell_type": "code",
   "execution_count": null,
   "id": "d0e53100-f0ca-4839-909a-d4d7612fc5df",
   "metadata": {},
   "outputs": [],
   "source": [
    "# Open file for reading\n",
    "with open('example.txt', 'r') as f:\n",
    "    # Read the entire contents of the file\n",
    "    contents = f.read()\n",
    "\n",
    "# Print the contents of the file\n",
    "print(contents)"
   ]
  },
  {
   "cell_type": "markdown",
   "id": "caf78e68-e031-4276-b362-0a29deb2d763",
   "metadata": {},
   "source": [
    "2. readline(): This method reads one line at a time from the file and returns it as a string. It is useful when you want to read a large file line by line."
   ]
  },
  {
   "cell_type": "code",
   "execution_count": null,
   "id": "e6b26f90-e7c5-4b2c-a1db-f1cc735a338b",
   "metadata": {},
   "outputs": [],
   "source": [
    "# Open file for reading\n",
    "with open('example.txt', 'r') as f:\n",
    "    # Read the first line of the file\n",
    "    line1 = f.readline()\n",
    "\n",
    "    # Read the second line of the file\n",
    "    line2 = f.readline()\n",
    "\n",
    "# Print the first two lines of the file\n",
    "print(line1)\n",
    "print(line2)"
   ]
  },
  {
   "cell_type": "markdown",
   "id": "61dd66f1-9e90-4132-a8a6-736f5c0064f8",
   "metadata": {},
   "source": [
    "3. readlines(): This method reads all the lines of the file and returns them as a list of strings. Each element of the list represents a line from the file."
   ]
  },
  {
   "cell_type": "code",
   "execution_count": null,
   "id": "67529ba5-5c67-4338-8f58-ba81d13e24cf",
   "metadata": {},
   "outputs": [],
   "source": [
    "# Open file for reading\n",
    "with open('example.txt', 'r') as f:\n",
    "    # Read all the lines of the file\n",
    "    lines = f.readlines()\n",
    "\n",
    "# Print all the lines of the file\n",
    "for line in lines:\n",
    "    print(line)"
   ]
  },
  {
   "cell_type": "markdown",
   "id": "66efa5e8-669c-45d1-8d44-a2626140b7a8",
   "metadata": {},
   "source": [
    "Note that the readline() method reads one line at a time, so we need to call it repeatedly to read all the lines of the file. The readlines() method, on the other hand, reads all the lines of the file at once and returns them as a list, which can be easily processed using a loop or other list methods."
   ]
  },
  {
   "cell_type": "markdown",
   "id": "890c8ad4-c622-4e91-b5c9-4a9a095e2b08",
   "metadata": {},
   "source": [
    "### Question 5"
   ]
  },
  {
   "cell_type": "markdown",
   "id": "afa908bc-6f7b-43fa-9b69-caf63c40d2e9",
   "metadata": {},
   "source": [
    "Explain why with statement is used with open(). What is the advantage of using with statement and\n",
    "open() together?"
   ]
  },
  {
   "cell_type": "markdown",
   "id": "daf6a4ca-a91e-4d96-bc2f-4d216967ccb9",
   "metadata": {},
   "source": [
    "### Answer"
   ]
  },
  {
   "cell_type": "markdown",
   "id": "d838e26c-1dd8-49ef-ad6e-9982543cb592",
   "metadata": {},
   "source": [
    "In Python, the with statement is used in conjunction with the open() function to ensure that the file is properly closed after it has been used.\n",
    "\n",
    "The with statement is a context manager, which means that it sets up a context in which a particular resource (in this case, a file) is used, and automatically cleans up the resource when the context is exited (either by normal program termination or by an exception).\n",
    "\n",
    "The advantage of using the with statement and open() together is that it ensures that the file is closed properly, even if an exception is raised while the file is being used. If we don't use the with statement and manually open and close the file, we may forget to close the file or fail to close it properly, which can lead to resource leaks, data loss, or file corruption.\n",
    "\n",
    "Here's an example that illustrates the use of with statement and open() together:"
   ]
  },
  {
   "cell_type": "code",
   "execution_count": null,
   "id": "0eda88b3-21b8-40a6-bc82-3b1ecd5e8cc2",
   "metadata": {},
   "outputs": [],
   "source": [
    "# Open a file using with statement\n",
    "with open('example.txt', 'r') as f:\n",
    "    # Read data from the file\n",
    "    data = f.read()\n",
    "\n",
    "# The file is automatically closed after the block is exited\n"
   ]
  },
  {
   "cell_type": "markdown",
   "id": "8ff24c1e-a6f4-4966-bdc0-00d0d4d03b49",
   "metadata": {},
   "source": [
    "In the above example, we open the file 'example.txt' in read mode ('r') using the with statement. We then read the contents of the file using the read() method of the file object. Once we are done reading the file, the with statement automatically closes the file, releasing any resources that were allocated to it."
   ]
  },
  {
   "cell_type": "markdown",
   "id": "1e72d49d-2060-4111-b320-6aeed661f048",
   "metadata": {},
   "source": [
    "### Question 6"
   ]
  },
  {
   "cell_type": "markdown",
   "id": "b03d5f7b-8f5f-47d9-9d2e-843cfa14ef8e",
   "metadata": {},
   "source": [
    "Explain the write() and writelines() functions. Give a suitable example."
   ]
  },
  {
   "cell_type": "markdown",
   "id": "93ba8235-54a6-422b-ac2a-7ea89651bda7",
   "metadata": {},
   "source": [
    "### Answer"
   ]
  },
  {
   "cell_type": "markdown",
   "id": "9533d099-8ab9-45ca-b370-8be8b4dc9a7b",
   "metadata": {},
   "source": [
    "In Python, the write() and writelines() functions are used to write data to a file.\n",
    "\n",
    "1. write(): This method writes a single string to a file. If the file already exists, the string is appended to the end of the file. If the file does not exist, a new file is created. Here's an example:"
   ]
  },
  {
   "cell_type": "code",
   "execution_count": null,
   "id": "5359a3d2-d496-45a4-80dc-bfdb499c5f21",
   "metadata": {},
   "outputs": [],
   "source": [
    "# Open file for writing\n",
    "with open('example.txt', 'w') as f:\n",
    "    # Write a string to the file\n",
    "    f.write('I want to become a Data Scientist')\n",
    "\n",
    "# The file is automatically closed after the block is exited"
   ]
  },
  {
   "cell_type": "markdown",
   "id": "e45cbd49-f949-4d1d-9f1c-5e2a2e552acb",
   "metadata": {},
   "source": [
    "In the above example, we open the file 'example.txt' in write mode ('w') using the with statement. We then write the string 'I want to become a Data Scientist' to the file using the write() method of the file object. Once we are done writing to the file, the with statement automatically closes the file, releasing any resources that were allocated to it.\n",
    "\n",
    "2. writelines(): This method writes a sequence of strings to a file. Each string is written on a separate line in the file. Here's an example:"
   ]
  },
  {
   "cell_type": "code",
   "execution_count": null,
   "id": "43bb4853-43e3-4805-8b48-727955a85894",
   "metadata": {},
   "outputs": [],
   "source": [
    "# A list of strings to write to the file\n",
    "lines = ['Data Science is a fascinating field\\n', 'I enjoy working with data\\n', 'I want to learn more about Machine Learning\\n']\n",
    "\n",
    "# Open file for writing\n",
    "with open('example.txt', 'w') as f:\n",
    "    # Write the list of strings to the file\n",
    "    f.writelines(lines)\n",
    "\n",
    "# The file is automatically closed after the block is exited\n"
   ]
  },
  {
   "cell_type": "markdown",
   "id": "9148ae16-4bcb-4c16-915b-6448e9a5efd9",
   "metadata": {},
   "source": [
    "In the above example, we create a list of strings called lines. We then open the file 'example.txt' in write mode ('w') using the with statement. We use the writelines() method of the file object to write the list of strings to the file. Each string in the list is written on a separate line in the file. Once we are done writing to the file, the with statement automatically closes the file, releasing any resources that were allocated to it.\n",
    "\n",
    "In summary, write() and writelines() are used to write data to a file. write() writes a single string to a file, while writelines() writes a sequence of strings to a file, with each string written on a separate line."
   ]
  },
  {
   "cell_type": "code",
   "execution_count": null,
   "id": "354c42dd-f3e6-437b-abfb-97587875a780",
   "metadata": {},
   "outputs": [],
   "source": []
  }
 ],
 "metadata": {
  "kernelspec": {
   "display_name": "Python 3 (ipykernel)",
   "language": "python",
   "name": "python3"
  },
  "language_info": {
   "codemirror_mode": {
    "name": "ipython",
    "version": 3
   },
   "file_extension": ".py",
   "mimetype": "text/x-python",
   "name": "python",
   "nbconvert_exporter": "python",
   "pygments_lexer": "ipython3",
   "version": "3.10.8"
  }
 },
 "nbformat": 4,
 "nbformat_minor": 5
}
