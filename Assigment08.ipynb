{
 "cells": [
  {
   "cell_type": "markdown",
   "id": "b7e621f5-bba9-46e0-b2cb-993533d4853b",
   "metadata": {},
   "source": [
    "## Assigment"
   ]
  },
  {
   "cell_type": "markdown",
   "id": "4cf02e9a-a09f-44c5-be17-8bfee4968e7f",
   "metadata": {},
   "source": [
    "### Question 1"
   ]
  },
  {
   "cell_type": "markdown",
   "id": "09286d5a-dde2-446d-bea0-c1c944d18db2",
   "metadata": {},
   "source": [
    "What is Abstraction in OOps ? Explain with an example."
   ]
  },
  {
   "cell_type": "markdown",
   "id": "0058af43-9cbf-4cd2-9ac7-927c2d03a91a",
   "metadata": {},
   "source": [
    "### Answer"
   ]
  },
  {
   "cell_type": "markdown",
   "id": "815327d6-e3b3-42bd-9132-ee4e7c527eee",
   "metadata": {},
   "source": [
    "Abstraction is a fundamental concept of Object-Oriented Programming (OOP) that focuses on hiding the internal complexity of an object from its external interface, and allowing users to interact with the object through a simplified and standardized interface. Abstraction helps to achieve encapsulation, modularity, and code reusability.\n",
    "\n",
    "In Python, abstraction can be achieved through the use of abstract classes and interfaces. An abstract class is a class that cannot be instantiated and may contain one or more abstract methods, which are methods that do not have any implementation. An interface is similar to an abstract class, but it contains only abstract methods, and no instance variables or method implementations.\n",
    "\n",
    "Here's an example of abstraction in Python using an abstract class:"
   ]
  },
  {
   "cell_type": "code",
   "execution_count": 2,
   "id": "46310b69-9905-4baa-8a58-1dbba8d594c2",
   "metadata": {},
   "outputs": [
    {
     "name": "stdout",
     "output_type": "stream",
     "text": [
      "Woof!\n",
      "Meow!\n"
     ]
    }
   ],
   "source": [
    "from abc import ABC, abstractmethod\n",
    "\n",
    "class Animal(ABC):\n",
    "    @abstractmethod\n",
    "    def speak(self):\n",
    "        pass\n",
    "\n",
    "class Dog(Animal):\n",
    "    def speak(self):\n",
    "        return \"Woof!\"\n",
    "\n",
    "class Cat(Animal):\n",
    "    def speak(self):\n",
    "        return \"Meow!\"\n",
    "\n",
    "my_dog = Dog()\n",
    "print(my_dog.speak())  \n",
    "\n",
    "my_cat = Cat()\n",
    "print(my_cat.speak())  \n"
   ]
  },
  {
   "cell_type": "markdown",
   "id": "128da032-9d52-4e9e-86a5-b01fd6a2c185",
   "metadata": {},
   "source": [
    "### Question 2"
   ]
  },
  {
   "cell_type": "markdown",
   "id": "a566d275-675f-4164-a5ee-2e63bf0e0894",
   "metadata": {},
   "source": [
    "Differentiate between Abstraction and Encapsulation. Explain with an example."
   ]
  },
  {
   "cell_type": "markdown",
   "id": "f8cc1901-25ad-4398-9d77-19ec28eff91d",
   "metadata": {},
   "source": [
    "### Answer\n"
   ]
  },
  {
   "cell_type": "markdown",
   "id": "37ae2f02-e3db-4810-91fd-a4a43fad7cb2",
   "metadata": {},
   "source": [
    "Abstraction and encapsulation are two important concepts in Object-Oriented Programming (OOP) that help to improve the design and maintainability of software systems. Although they are related, they have different meanings and serve different purposes.\n",
    "\n",
    "Abstraction is the process of hiding the implementation details of an object from the user and providing a simplified interface for interacting with the object. It is concerned with the what, rather than the how. Abstraction is achieved through the use of abstract classes, interfaces, and inheritance.\n",
    "\n",
    "Encapsulation, on the other hand, is the process of hiding the internal details of an object from the outside world and exposing only the necessary details through a well-defined interface. It is concerned with the how, rather than the what. Encapsulation is achieved through the use of access modifiers, such as private, protected, and public, to control access to the object's internal state.\n",
    "\n",
    "Here's an example that illustrates the difference between abstraction and encapsulation:"
   ]
  },
  {
   "cell_type": "code",
   "execution_count": 4,
   "id": "3d41f9f1-af0e-44d2-a159-de4afbec00d0",
   "metadata": {},
   "outputs": [
    {
     "name": "stdout",
     "output_type": "stream",
     "text": [
      "Toyota\n",
      "Corolla\n",
      "2022\n"
     ]
    }
   ],
   "source": [
    "class Car:\n",
    "    def __init__(self, make, model, year):\n",
    "        self._make = make  # Encapsulated variable\n",
    "        self._model = model  # Encapsulated variable\n",
    "        self._year = year  # Encapsulated variable\n",
    "\n",
    "    def get_make(self):\n",
    "        return self._make  # Abstraction of implementation details\n",
    "\n",
    "    def get_model(self):\n",
    "        return self._model  # Abstraction of implementation details\n",
    "\n",
    "    def get_year(self):\n",
    "        return self._year  # Abstraction of implementation details\n",
    "\n",
    "my_car = Car(\"Toyota\", \"Corolla\", 2022)\n",
    "\n",
    "print(my_car.get_make())  \n",
    "print(my_car.get_model())  \n",
    "print(my_car.get_year())  \n"
   ]
  },
  {
   "cell_type": "markdown",
   "id": "a5010325-9133-44ae-ba1d-e3da3498a2e3",
   "metadata": {},
   "source": [
    "### Question 3"
   ]
  },
  {
   "cell_type": "markdown",
   "id": "b36af754-1bef-470b-aa20-fc0978f0387f",
   "metadata": {},
   "source": [
    "What is abc module in python? Why is it used?"
   ]
  },
  {
   "cell_type": "markdown",
   "id": "f4a4b838-5d90-44b3-b1aa-f3390f1584b5",
   "metadata": {},
   "source": [
    "### Answer"
   ]
  },
  {
   "cell_type": "markdown",
   "id": "84b4bc40-a4f6-42d7-88f1-020068e27c1d",
   "metadata": {},
   "source": [
    "The abc module in Python stands for \"Abstract Base Classes\". It provides a way to define abstract classes in Python, which are classes that cannot be instantiated directly, but are meant to be subclassed by concrete classes that provide their own implementation of the abstract methods. Abstract base classes are useful for creating a standardized interface that multiple concrete classes can implement.\n",
    "\n",
    "The abc module provides the ABC class and the abstractmethod() decorator to define abstract classes and methods, respectively. A class that extends ABC and contains at least one abstract method is considered an abstract class. An abstract method is a method that is declared but does not have an implementation.\n",
    "\n",
    "Here's an example of using the abc module to define an abstract class:"
   ]
  },
  {
   "cell_type": "code",
   "execution_count": 5,
   "id": "53e9d2da-5fef-455c-bcdf-bc09d0f7615c",
   "metadata": {},
   "outputs": [
    {
     "name": "stdout",
     "output_type": "stream",
     "text": [
      "25\n",
      "28.259999999999998\n"
     ]
    }
   ],
   "source": [
    "from abc import ABC, abstractmethod\n",
    "\n",
    "class Shape(ABC):\n",
    "    @abstractmethod\n",
    "    def area(self):\n",
    "        pass\n",
    "\n",
    "class Square(Shape):\n",
    "    def __init__(self, side):\n",
    "        self._side = side\n",
    "\n",
    "    def area(self):\n",
    "        return self._side * self._side\n",
    "\n",
    "class Circle(Shape):\n",
    "    def __init__(self, radius):\n",
    "        self._radius = radius\n",
    "\n",
    "    def area(self):\n",
    "        return 3.14 * self._radius * self._radius\n",
    "\n",
    "my_square = Square(5)\n",
    "print(my_square.area())  \n",
    "\n",
    "my_circle = Circle(3)\n",
    "print(my_circle.area())  \n"
   ]
  },
  {
   "cell_type": "markdown",
   "id": "718e0f1c-f751-4e83-8a38-3e8b222dcf8c",
   "metadata": {},
   "source": [
    "### Question 4"
   ]
  },
  {
   "cell_type": "markdown",
   "id": "b82d12f8-f1c2-48ad-a993-62ad4ced4f4f",
   "metadata": {},
   "source": [
    "How can we achieve data abstraction?"
   ]
  },
  {
   "cell_type": "markdown",
   "id": "e8d14e9b-c0e8-4aa8-92f8-0a1689fd2801",
   "metadata": {},
   "source": [
    "### Answer"
   ]
  },
  {
   "cell_type": "markdown",
   "id": "cb22af22-f34b-4a0c-8af2-c7345bdba51e",
   "metadata": {},
   "source": [
    "In object-oriented programming, data abstraction is achieved through the use of abstract classes and interfaces. Abstract classes are classes that cannot be instantiated directly, but are meant to be subclassed by concrete classes that provide their own implementation of the abstract methods. Interfaces, on the other hand, are a collection of abstract methods that define the behavior of an object without providing any implementation details.\n",
    "\n",
    "Here are some steps to achieve data abstraction in Python:\n",
    "\n",
    "1. Define an abstract class or interface using the abc module."
   ]
  },
  {
   "cell_type": "code",
   "execution_count": 6,
   "id": "a0ff2003-f57a-4389-9ba3-eb038d2637d3",
   "metadata": {},
   "outputs": [],
   "source": [
    "from abc import ABC, abstractmethod\n",
    "\n",
    "class Animal(ABC):\n",
    "    @abstractmethod\n",
    "    def make_sound(self):\n",
    "        pass\n"
   ]
  },
  {
   "cell_type": "markdown",
   "id": "cae38bfc-9d6d-4b47-a9cd-25bbcc828145",
   "metadata": {},
   "source": [
    "In this example, we define an abstract class Animal that contains an abstract method make_sound(). Because Animal is an abstract class, it cannot be instantiated directly.\n",
    "\n",
    "2. Create concrete classes that extend the abstract class or implement the interface."
   ]
  },
  {
   "cell_type": "code",
   "execution_count": 7,
   "id": "88e27513-30aa-49bf-8016-7f442bdf8832",
   "metadata": {},
   "outputs": [],
   "source": [
    "class Dog(Animal):\n",
    "    def make_sound(self):\n",
    "        print(\"Woof!\")\n",
    "\n",
    "class Cat(Animal):\n",
    "    def make_sound(self):\n",
    "        print(\"Meow!\")\n"
   ]
  },
  {
   "cell_type": "markdown",
   "id": "b7eca646-3820-449e-8954-ce3e221239b1",
   "metadata": {},
   "source": [
    "In this example, we define two concrete classes, Dog and Cat, that extend the Animal abstract class and provide their own implementation of the make_sound() method.\n",
    "\n",
    "3. Instantiate the concrete classes and call their methods."
   ]
  },
  {
   "cell_type": "code",
   "execution_count": 8,
   "id": "e27e7e40-e7a0-4dc3-a978-69dcb129fda5",
   "metadata": {},
   "outputs": [
    {
     "name": "stdout",
     "output_type": "stream",
     "text": [
      "Woof!\n",
      "Meow!\n"
     ]
    }
   ],
   "source": [
    "my_dog = Dog()\n",
    "my_dog.make_sound()  \n",
    "\n",
    "my_cat = Cat()\n",
    "my_cat.make_sound()  \n"
   ]
  },
  {
   "cell_type": "markdown",
   "id": "574f6f59-2a07-42ae-b2ec-5ea3e48cf21d",
   "metadata": {},
   "source": [
    "In this example, we create instances of the Dog and Cat classes and call their make_sound() methods. Because both classes extend the Animal abstract class, we know that they both have a make_sound() method, even though we don't know how it's implemented."
   ]
  },
  {
   "cell_type": "markdown",
   "id": "d060193d-44ec-4352-8741-840368711f42",
   "metadata": {},
   "source": [
    "### Question 5"
   ]
  },
  {
   "cell_type": "markdown",
   "id": "c10a8f22-f3bb-44c7-93b3-bb109c6b3ea6",
   "metadata": {},
   "source": [
    "Can we create an instance of an abstract class? Explain your answer."
   ]
  },
  {
   "cell_type": "markdown",
   "id": "1da7ee0d-2a76-483c-9b65-3dfa99516892",
   "metadata": {},
   "source": [
    "### Answer"
   ]
  },
  {
   "cell_type": "markdown",
   "id": "c01260d8-4181-4451-a6cc-99325ac618b7",
   "metadata": {},
   "source": [
    "No, we cannot create an instance of an abstract class in Python or any other object-oriented programming language. An abstract class is a class that is meant to be subclassed by concrete classes that provide their own implementation of the abstract methods. Because an abstract class cannot be instantiated directly, it does not provide any implementation details for its methods.\n",
    "\n",
    "If we try to create an instance of an abstract class in Python, we will get a TypeError with the message \"Can't instantiate abstract class <class_name> with abstract methods <method_names>\". For example:"
   ]
  },
  {
   "cell_type": "code",
   "execution_count": 9,
   "id": "6c11ac9e-e714-434c-80e8-2f5e7cb6c8a6",
   "metadata": {
    "collapsed": true,
    "jupyter": {
     "outputs_hidden": true
    },
    "tags": []
   },
   "outputs": [
    {
     "ename": "TypeError",
     "evalue": "Can't instantiate abstract class Animal with abstract method make_sound",
     "output_type": "error",
     "traceback": [
      "\u001b[0;31m---------------------------------------------------------------------------\u001b[0m",
      "\u001b[0;31mTypeError\u001b[0m                                 Traceback (most recent call last)",
      "Cell \u001b[0;32mIn[9], line 8\u001b[0m\n\u001b[1;32m      4\u001b[0m     \u001b[38;5;129m@abstractmethod\u001b[39m\n\u001b[1;32m      5\u001b[0m     \u001b[38;5;28;01mdef\u001b[39;00m \u001b[38;5;21mmake_sound\u001b[39m(\u001b[38;5;28mself\u001b[39m):\n\u001b[1;32m      6\u001b[0m         \u001b[38;5;28;01mpass\u001b[39;00m\n\u001b[0;32m----> 8\u001b[0m my_animal \u001b[38;5;241m=\u001b[39m \u001b[43mAnimal\u001b[49m\u001b[43m(\u001b[49m\u001b[43m)\u001b[49m  \u001b[38;5;66;03m# Output: TypeError: Can't instantiate abstract class Animal with abstract methods make_sound\u001b[39;00m\n",
      "\u001b[0;31mTypeError\u001b[0m: Can't instantiate abstract class Animal with abstract method make_sound"
     ]
    }
   ],
   "source": [
    "from abc import ABC, abstractmethod\n",
    "\n",
    "class Animal(ABC):\n",
    "    @abstractmethod\n",
    "    def make_sound(self):\n",
    "        pass\n",
    "\n",
    "my_animal = Animal()  # Output: TypeError: Can't instantiate abstract class Animal with abstract methods make_sound\n"
   ]
  },
  {
   "cell_type": "markdown",
   "id": "ebd4d03b-e144-450f-8d6a-6f0ec6e2b961",
   "metadata": {
    "tags": []
   },
   "source": [
    "In this example, we define an abstract class Animal with an abstract method make_sound(). When we try to create an instance of Animal, we get a TypeError because Animal is an abstract class and cannot be instantiated directly.\n",
    "\n",
    "Instead of creating an instance of an abstract class, we should create concrete classes that extend the abstract class and provide their own implementation of the abstract methods. We can then create instances of the concrete classes and call their methods. By using abstract classes, we create a standardized interface that multiple concrete classes can implement in their own way."
   ]
  },
  {
   "cell_type": "code",
   "execution_count": null,
   "id": "47ba0f82-665d-4909-8287-dfcda9c9362c",
   "metadata": {},
   "outputs": [],
   "source": []
  }
 ],
 "metadata": {
  "kernelspec": {
   "display_name": "Python 3 (ipykernel)",
   "language": "python",
   "name": "python3"
  },
  "language_info": {
   "codemirror_mode": {
    "name": "ipython",
    "version": 3
   },
   "file_extension": ".py",
   "mimetype": "text/x-python",
   "name": "python",
   "nbconvert_exporter": "python",
   "pygments_lexer": "ipython3",
   "version": "3.10.8"
  }
 },
 "nbformat": 4,
 "nbformat_minor": 5
}
