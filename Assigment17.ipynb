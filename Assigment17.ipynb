{
 "cells": [
  {
   "cell_type": "markdown",
   "id": "20761682-e743-4b75-928e-6b3bf2440448",
   "metadata": {},
   "source": [
    "# Assigment"
   ]
  },
  {
   "cell_type": "markdown",
   "id": "360ea923-d661-40e4-920d-c97daf20db4c",
   "metadata": {},
   "source": [
    "### Question 1"
   ]
  },
  {
   "cell_type": "markdown",
   "id": "bbd02f48-c572-45d2-94c5-e8b8d3c7f39c",
   "metadata": {},
   "source": [
    "What is MongoDB? Explain non-relational databases in short. In which scenarios it is preferred to use\n",
    "MongoDB over SQL databases?"
   ]
  },
  {
   "cell_type": "markdown",
   "id": "d4d3817f-e983-4b29-a887-68ea6f965455",
   "metadata": {},
   "source": [
    "### Answer"
   ]
  },
  {
   "cell_type": "markdown",
   "id": "4e46c3aa-054d-450a-9e3e-f429c93d1053",
   "metadata": {},
   "source": [
    "MongoDB is a document-oriented NoSQL database that stores data in flexible JSON-like documents, allowing for greater flexibility and scalability than traditional SQL databases. MongoDB is designed to be fast, scalable, and flexible, making it an excellent choice for modern, data-driven applications.\n",
    "\n",
    "Non-relational databases, also known as NoSQL databases, are databases that do not use a traditional relational data model. Instead, they use a variety of data models, such as document-oriented, key-value, graph, and column-family. Non-relational databases are preferred in scenarios where flexibility, scalability, and performance are more important than strict data consistency and schema.\n",
    "\n",
    "MongoDB is preferred over SQL databases in scenarios where:\n",
    "\n",
    "1. Flexible data structures: MongoDB can handle a wide variety of data structures, including unstructured, semi-structured, and structured data, making it a better choice for applications with constantly changing data structures.\n",
    "\n",
    "2. Big Data and High Performance: MongoDB is designed to handle high volumes of data and provides fast read and write performance, making it ideal for big data applications.\n",
    "\n",
    "3. Real-time data processing: MongoDB supports real-time data processing, allowing applications to respond quickly to changes in data and enabling real-time analytics and reporting.\n",
    "\n",
    "4. Cloud-based environments: MongoDB is well-suited for cloud-based environments, offering built-in sharding, replication, and auto-scaling features.\n",
    "\n",
    "5. Agile Development: MongoDB's flexible data model and dynamic schema make it easier for developers to make changes to the data model as the application evolves, allowing for faster iteration and agile development."
   ]
  },
  {
   "cell_type": "markdown",
   "id": "ea6061a4-04c5-46e4-b43a-f5b82fe21599",
   "metadata": {},
   "source": [
    "### Question 2"
   ]
  },
  {
   "cell_type": "markdown",
   "id": "4c36ed9d-da16-4d27-bc39-5ceafeb1238c",
   "metadata": {},
   "source": [
    "State and Explain the features of MongoDB."
   ]
  },
  {
   "cell_type": "markdown",
   "id": "44e57447-9624-4835-8093-f01ced76be20",
   "metadata": {},
   "source": [
    "### Answer"
   ]
  },
  {
   "cell_type": "markdown",
   "id": "0fcae13f-3dc2-4d68-9037-0a3228ae150a",
   "metadata": {},
   "source": [
    "MongoDB is a document-oriented NoSQL database that offers a range of features that make it a popular choice for modern, data-driven applications. Some of the key features of MongoDB are:\n",
    "\n",
    "1. Flexible data model: MongoDB uses a flexible document data model, allowing for a wide variety of data structures to be stored in a single collection. This makes it easy to handle complex data structures, such as hierarchical data or arrays of objects.\n",
    "\n",
    "2. Scalability: MongoDB is designed to scale horizontally, meaning that it can be easily distributed across multiple servers to handle large amounts of data and high traffic volumes.\n",
    "\n",
    "3. High performance: MongoDB provides fast read and write performance, making it ideal for applications that require real-time data processing.\n",
    "\n",
    "4. Rich query language: MongoDB supports a rich query language that includes a range of query operators and aggregation functions, making it easy to retrieve and analyze data.\n",
    "\n",
    "5. Indexing: MongoDB supports a range of indexing options, including single-field, compound, geospatial, and text indexes, making it easy to optimize queries for fast performance.\n",
    "\n",
    "6. Auto-sharding: MongoDB includes built-in support for automatic sharding, allowing data to be distributed across multiple servers to improve scalability and performance.\n",
    "\n",
    "7. Document validation: MongoDB provides support for document validation, allowing developers to enforce data consistency and structure within their applications.\n",
    "\n",
    "8. ACID transactions: MongoDB supports ACID transactions, allowing developers to ensure data consistency and integrity across multiple documents or collections.\n",
    "\n",
    "9. Integration with other tools and platforms: MongoDB integrates with a wide range of third-party tools and platforms, including popular programming languages, analytics tools, and cloud platforms.\n",
    "\n",
    "Overall, MongoDB's features make it a flexible, scalable, and high-performance database that can handle a wide range of data-driven applications."
   ]
  },
  {
   "cell_type": "markdown",
   "id": "07405a37-3163-42a2-88b3-66bec5581425",
   "metadata": {},
   "source": [
    "### Question 3"
   ]
  },
  {
   "cell_type": "markdown",
   "id": "d16f98fd-843e-4d07-b996-88c41c2b00c4",
   "metadata": {},
   "source": [
    "Write a code to connect MongoDB to Python. Also, create a database and a collection in MongoDB."
   ]
  },
  {
   "cell_type": "markdown",
   "id": "a2ef5ca3-4656-417c-b89a-e9a9708f5c0f",
   "metadata": {},
   "source": [
    "### Answer"
   ]
  },
  {
   "cell_type": "markdown",
   "id": "d3abfbfb-db67-48cd-994b-8e683cb42a2d",
   "metadata": {},
   "source": [
    "Here is an example Python code to connect to MongoDB and create a database and a collection:"
   ]
  },
  {
   "cell_type": "code",
   "execution_count": null,
   "id": "bbbad126-059e-4b4a-b53d-5b98c024eed4",
   "metadata": {},
   "outputs": [],
   "source": [
    "import pymongo\n",
    "\n",
    "# Connect to MongoDB\n",
    "client = pymongo.MongoClient(\"mongodb://localhost:27017/\")\n",
    "\n",
    "# Create a new database\n",
    "mydb = client[\"mydatabase\"]\n",
    "\n",
    "# Create a new collection\n",
    "mycol = mydb[\"customers\"]\n",
    "\n",
    "# Insert a new document into the collection\n",
    "mydict = { \"name\": \"John\", \"address\": \"Highway 37\" }\n",
    "x = mycol.insert_one(mydict)\n",
    "\n",
    "# Print the ID of the inserted document\n",
    "print(x.inserted_id)"
   ]
  },
  {
   "cell_type": "markdown",
   "id": "5bf50610-15df-469d-a491-1fa1272e8c9b",
   "metadata": {},
   "source": [
    "This code uses the pymongo library to connect to a MongoDB instance running on the local machine (localhost) on the default port (27017). It then creates a new database called mydatabase and a new collection called customers within that database. Finally, it inserts a new document into the collection, containing a name and an address field, and prints the ID of the inserted document.\n",
    "\n",
    "Note that before running this code, you need to make sure that MongoDB is installed and running on your machine. You can download MongoDB from the official website and start it by running the mongod command in a terminal or command prompt."
   ]
  },
  {
   "cell_type": "markdown",
   "id": "ac36e3c5-d167-49e7-aed1-5cc03772e9ed",
   "metadata": {},
   "source": [
    "### Question 4"
   ]
  },
  {
   "cell_type": "markdown",
   "id": "af618773-f039-40d2-b910-c5c3dd2687f0",
   "metadata": {},
   "source": [
    "Using the database and the collection created in question number 3, write a code to insert one record,\n",
    "and insert many records. Use the find() and find_one() methods to print the inserted record."
   ]
  },
  {
   "cell_type": "markdown",
   "id": "6206aad2-9e1e-4a2b-b69e-41c7c3eb0dec",
   "metadata": {},
   "source": [
    "### Answer"
   ]
  },
  {
   "cell_type": "markdown",
   "id": "ed0b7ac0-661c-426c-b7b0-e93b867ab1a3",
   "metadata": {},
   "source": [
    "Here's an Python code to insert one record and insert many records into the customers collection that we created in the previous question, and use the find() and find_one() methods to print the inserted records:"
   ]
  },
  {
   "cell_type": "code",
   "execution_count": null,
   "id": "5f592bab-7f61-42b9-a050-a79aed1a96d0",
   "metadata": {},
   "outputs": [],
   "source": [
    "import pymongo\n",
    "\n",
    "# Connect to MongoDB\n",
    "client = pymongo.MongoClient(\"mongodb://localhost:27017/\")\n",
    "\n",
    "# Access the \"mydatabase\" database\n",
    "mydb = client[\"mydatabase\"]\n",
    "\n",
    "# Access the \"customers\" collection\n",
    "mycol = mydb[\"customers\"]\n",
    "\n",
    "# Insert one record\n",
    "mydict = { \"name\": \"Alice\", \"address\": \"123 Main St\", \"age\": 28 }\n",
    "x = mycol.insert_one(mydict)\n",
    "\n",
    "# Print the inserted record\n",
    "print(\"Inserted record:\")\n",
    "print(mycol.find_one({\"_id\": x.inserted_id}))\n",
    "\n",
    "# Insert many records\n",
    "mylist = [\n",
    "  { \"name\": \"Bob\", \"address\": \"456 Elm St\", \"age\": 35 },\n",
    "  { \"name\": \"Charlie\", \"address\": \"789 Oak St\", \"age\": 42 },\n",
    "  { \"name\": \"David\", \"address\": \"321 Maple St\", \"age\": 28 }\n",
    "]\n",
    "x = mycol.insert_many(mylist)\n",
    "\n",
    "# Print the inserted records\n",
    "print(\"Inserted records:\")\n",
    "for record in mycol.find():\n",
    "    print(record)"
   ]
  },
  {
   "cell_type": "markdown",
   "id": "46e2c36f-fa31-4c4d-9743-8bd11d6c4151",
   "metadata": {},
   "source": [
    "In this code, we first connect to the MongoDB instance and access the mydatabase database and the customers collection. We then insert one record into the collection using the insert_one() method and print the inserted record using the find_one() method.\n",
    "\n",
    "Next, we insert multiple records into the collection using the insert_many() method and print all the inserted records using the find() method in a loop. Note that the find() method with no arguments returns all documents in the collection"
   ]
  },
  {
   "cell_type": "markdown",
   "id": "9a058ded-b9f2-4a2e-a906-6ffbbfcb516b",
   "metadata": {},
   "source": [
    "### Question 5"
   ]
  },
  {
   "cell_type": "markdown",
   "id": "6bafd59d-128f-40b1-9abb-6b779245caf0",
   "metadata": {},
   "source": [
    "Explain how you can use the find() method to query the MongoDB database. Write a simple code to\n",
    "demonstrate this."
   ]
  },
  {
   "cell_type": "markdown",
   "id": "3f20a6a9-0f91-40dd-a28f-bb1b6c5105af",
   "metadata": {},
   "source": [
    "### Answer"
   ]
  },
  {
   "cell_type": "markdown",
   "id": "381d9ddb-ba45-4dc7-b04f-71ef952393aa",
   "metadata": {},
   "source": [
    "The find() method is used to query a MongoDB collection and retrieve documents that match a specific set of criteria. The find() method takes one or more arguments that specify the search criteria, and returns a cursor object that can be used to iterate over the matching documents.\n",
    "\n",
    "Here's an example code to demonstrate how to use the find() method to query a MongoDB collection:"
   ]
  },
  {
   "cell_type": "code",
   "execution_count": null,
   "id": "b2a5b46f-9307-4868-acd8-deeceb3877e0",
   "metadata": {},
   "outputs": [],
   "source": [
    "import pymongo\n",
    "\n",
    "# Connect to MongoDB\n",
    "client = pymongo.MongoClient(\"mongodb://localhost:27017/\")\n",
    "\n",
    "# Access the \"mydatabase\" database\n",
    "mydb = client[\"mydatabase\"]\n",
    "\n",
    "# Access the \"customers\" collection\n",
    "mycol = mydb[\"customers\"]\n",
    "\n",
    "# Find all documents in the collection\n",
    "result = mycol.find()\n",
    "\n",
    "# Print each document\n",
    "for document in result:\n",
    "    print(document)"
   ]
  },
  {
   "cell_type": "markdown",
   "id": "b7883f0b-590b-4219-9464-047d69f9be21",
   "metadata": {},
   "source": [
    "In this example, we first connect to the MongoDB instance and access the mydatabase database and the customers collection. We then use the find() method with no arguments to retrieve all documents in the collection. The find() method returns a cursor object, which we can use to iterate over the matching documents.\n",
    "\n",
    "Finally, we print each document using a loop. Note that the output of this code will be all the documents in the customers collection. You can use the find() method with arguments to filter the results and retrieve only the documents that match specific criteria."
   ]
  },
  {
   "cell_type": "markdown",
   "id": "50d347d7-58be-4dbf-b0a1-deb07005ba52",
   "metadata": {},
   "source": [
    "### Question 6"
   ]
  },
  {
   "cell_type": "markdown",
   "id": "2096d7f3-76cf-4aef-82d6-7761dff66f64",
   "metadata": {},
   "source": [
    "Explain the sort() method. Give an example to demonstrate sorting in MongoDB."
   ]
  },
  {
   "cell_type": "markdown",
   "id": "f9653173-6948-488c-bd1b-f8de1d571f64",
   "metadata": {},
   "source": [
    "### Answer"
   ]
  },
  {
   "cell_type": "markdown",
   "id": "c8e4796b-7892-46c9-9efc-141444d77c23",
   "metadata": {},
   "source": [
    "The sort() method is used to sort the results of a MongoDB query in ascending or descending order based on one or more fields in the documents. The sort() method takes one or more arguments that specify the fields to sort by and the sort order (ascending or descending).\n",
    "\n",
    "Here's an example code to demonstrate sorting in MongoDB:"
   ]
  },
  {
   "cell_type": "code",
   "execution_count": null,
   "id": "f3ffdc13-8c55-4278-a94e-34a7a1f66c80",
   "metadata": {},
   "outputs": [],
   "source": [
    "import pymongo\n",
    "\n",
    "# Connect to MongoDB\n",
    "client = pymongo.MongoClient(\"mongodb://localhost:27017/\")\n",
    "\n",
    "# Access the \"mydatabase\" database\n",
    "mydb = client[\"mydatabase\"]\n",
    "\n",
    "# Access the \"customers\" collection\n",
    "mycol = mydb[\"customers\"]\n",
    "\n",
    "# Find all documents in the collection and sort by \"name\" field in descending order\n",
    "result = mycol.find().sort(\"name\", -1)\n",
    "\n",
    "# Print each document\n",
    "for document in result:\n",
    "    print(document)"
   ]
  },
  {
   "cell_type": "markdown",
   "id": "3c98bb77-df17-4f29-93af-8aab32f6537d",
   "metadata": {},
   "source": [
    "In this example, we first connect to the MongoDB instance and access the mydatabase database and the customers collection. We then use the find() method with no arguments to retrieve all documents in the collection, and use the sort() method to sort the results by the \"name\" field in descending order (indicated by the -1 argument).\n",
    "\n",
    "Finally, we print each sorted document using a loop. Note that the output of this code will be all the documents in the customers collection, sorted by the \"name\" field in descending order. You can use the sort() method with multiple arguments to sort by multiple fields, and specify the sort order for each field separately."
   ]
  },
  {
   "cell_type": "markdown",
   "id": "2b9c97d0-7079-430d-8555-74d772fc0d06",
   "metadata": {},
   "source": [
    "### Question 7"
   ]
  },
  {
   "cell_type": "markdown",
   "id": "dcce481f-9d57-45d6-ac81-20239ff257eb",
   "metadata": {},
   "source": [
    "Explain why delete_one(), delete_many(), and drop() is used."
   ]
  },
  {
   "cell_type": "markdown",
   "id": "dc066973-3b42-4646-82c9-b3c454d04021",
   "metadata": {},
   "source": [
    "### Answer"
   ]
  },
  {
   "cell_type": "markdown",
   "id": "14c8b87d-8a90-492e-b608-94ba305f2d2b",
   "metadata": {},
   "source": [
    "The delete_one(), delete_many(), and drop() methods are used to remove documents and collections from a MongoDB database.\n",
    "\n",
    "The delete_one() method is used to remove a single document that matches a specific set of criteria. It takes one argument that specifies the criteria for the document to be removed. If there are multiple documents that match the criteria, only the first matching document will be removed.\n",
    "\n",
    "The delete_many() method is used to remove multiple documents that match a specific set of criteria. It takes one argument that specifies the criteria for the documents to be removed. All documents that match the criteria will be removed.\n",
    "\n",
    "The drop() method is used to remove an entire collection from a MongoDB database. It takes no arguments and removes the entire collection and all its documents.\n",
    "\n",
    "These methods are useful for managing the data in a MongoDB database. The delete_one() and delete_many() methods can be used to selectively remove documents from a collection, while the drop() method is used to remove an entire collection. By removing unwanted documents or collections, you can keep your database clean and efficient, and reduce the storage requirements of your application."
   ]
  },
  {
   "cell_type": "code",
   "execution_count": null,
   "id": "2823129f-0d9f-4afe-8014-19d65760d983",
   "metadata": {},
   "outputs": [],
   "source": []
  }
 ],
 "metadata": {
  "kernelspec": {
   "display_name": "Python 3 (ipykernel)",
   "language": "python",
   "name": "python3"
  },
  "language_info": {
   "codemirror_mode": {
    "name": "ipython",
    "version": 3
   },
   "file_extension": ".py",
   "mimetype": "text/x-python",
   "name": "python",
   "nbconvert_exporter": "python",
   "pygments_lexer": "ipython3",
   "version": "3.10.8"
  }
 },
 "nbformat": 4,
 "nbformat_minor": 5
}
