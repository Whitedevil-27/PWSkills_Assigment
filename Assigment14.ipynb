{
 "cells": [
  {
   "cell_type": "markdown",
   "id": "fc11b203-a064-469d-9d7f-11762219df1d",
   "metadata": {},
   "source": [
    "## Assigment"
   ]
  },
  {
   "cell_type": "markdown",
   "id": "5e22082f-4f59-456d-bf1a-388fe5cd3763",
   "metadata": {},
   "source": [
    "## Question 1"
   ]
  },
  {
   "cell_type": "markdown",
   "id": "ce7af0f0-6186-4eee-8d9a-d08d8609a058",
   "metadata": {},
   "source": [
    "What is multithreading in python? Why is it used? Name the module used to handle threads in python."
   ]
  },
  {
   "cell_type": "markdown",
   "id": "83f17fcb-716b-4645-b0e5-b327b89878ff",
   "metadata": {},
   "source": [
    "### Answer"
   ]
  },
  {
   "cell_type": "markdown",
   "id": "35f2eb40-1057-456a-b7a0-3b2aa2f156bd",
   "metadata": {},
   "source": [
    "Multithreading in Python is a technique that allows a program to perform multiple tasks concurrently. In other words, it allows multiple threads to run simultaneously within a single program. Each thread can execute different parts of the program independently and concurrently.\n",
    "\n",
    "Multithreading is used to improve the performance of a program by utilizing the available resources efficiently. For example, if a program has to perform two independent tasks that take a significant amount of time to complete, running them in parallel on different threads can save time and improve the overall performance.\n",
    "\n",
    "The threading module is used to handle threads in Python. This module provides a way to create and manage threads in a Python program. It provides several classes and functions that can be used to start, stop, and manage threads. The Thread class is the most important class in this module, and it is used to create new threads."
   ]
  },
  {
   "cell_type": "markdown",
   "id": "e922bf7a-4f2c-483f-8ea6-c5d8a7fdf684",
   "metadata": {},
   "source": [
    "### Question 2"
   ]
  },
  {
   "cell_type": "markdown",
   "id": "309467be-bdb3-48fd-a0de-70d1aa9d8553",
   "metadata": {},
   "source": [
    "Why threading module used? Write the use of the following functions:\n",
    "1. activeCount()\n",
    "2. currentThread()\n",
    "3. enumerate()"
   ]
  },
  {
   "cell_type": "markdown",
   "id": "ebb8fff6-ad58-4585-ad49-488674954fad",
   "metadata": {},
   "source": [
    "### Answer"
   ]
  },
  {
   "cell_type": "markdown",
   "id": "10b234d0-eb1e-4369-ae33-243d610f441b",
   "metadata": {},
   "source": [
    "The threading module in Python is used to implement multithreading in a program. Multithreading allows a program to perform multiple tasks concurrently and improve the overall performance of the program by utilizing the available resources efficiently.\n",
    "\n",
    "The following are the uses of the three functions of the threading module:\n",
    "\n",
    "1. activeCount() function: This function returns the number of active threads in the current program. It can be useful to monitor the number of threads running at any given time and can be used to implement thread pooling in a program.\n",
    "\n",
    "2. currentThread() function: This function returns the current thread object, which can be useful to identify the current thread in a program. It can be used to implement thread-specific behavior or to obtain information about the current thread.\n",
    "\n",
    "3. enumerate() function: This function returns a list of all active thread objects in the current program. It can be used to iterate over all the threads in a program and perform operations on them. It can be useful for debugging purposes or to implement thread synchronization in a program.\n",
    "\n",
    "\n",
    "\n",
    "\n",
    "\n"
   ]
  },
  {
   "cell_type": "markdown",
   "id": "45ec6219-d908-4368-bf82-7fc3e1edfa2e",
   "metadata": {},
   "source": [
    "### Question 3"
   ]
  },
  {
   "cell_type": "markdown",
   "id": "c89b8991-c3df-4c93-aef1-e2705ca239fe",
   "metadata": {},
   "source": [
    "Explain the following functions :\n",
    "1. run()\n",
    "2. start()\n",
    "3. join()\n",
    "4. isAlive()"
   ]
  },
  {
   "cell_type": "markdown",
   "id": "858773f2-c1e7-4177-bff3-07311d8c7dea",
   "metadata": {},
   "source": [
    "### Answer"
   ]
  },
  {
   "cell_type": "markdown",
   "id": "3d7d86c2-2b31-4f04-8f40-3a5817b3bc04",
   "metadata": {},
   "source": [
    "The following are the explanations of the four functions of the threading module:\n",
    "\n",
    "1. run() function: This function is the entry point for a thread's activity. It defines the code that the thread will execute when started. It is the function that is called when the start() method is invoked on a thread object.\n",
    "\n",
    "2. start() function: This function starts the execution of a thread by calling the run() method. It creates a new thread of execution and starts it. It is important to note that the start() method can only be called once on a thread object.\n",
    "\n",
    "3. join() function: This function blocks the calling thread until the thread on which it is called completes its execution. It is often used to wait for a thread to finish before continuing with the execution of the main thread. The join() function can also take a timeout parameter, which specifies the maximum amount of time to wait for the thread to complete.\n",
    "\n",
    "4. isAlive() function: This function returns a Boolean value that indicates whether the thread is currently executing or not. It returns True if the thread is still running and False if it has completed its execution. This function can be useful to check the status of a thread and take appropriate action based on the result."
   ]
  },
  {
   "cell_type": "markdown",
   "id": "5c292750-c795-490e-9089-f8156437324c",
   "metadata": {},
   "source": [
    "### Question 4"
   ]
  },
  {
   "cell_type": "markdown",
   "id": "f7625a7a-b20a-4aa5-8d72-8ff8a28a535b",
   "metadata": {},
   "source": [
    "Write a python program to create two threads. Thread one must print the list of squares and thread two must print the list of cubes."
   ]
  },
  {
   "cell_type": "markdown",
   "id": "2e562e81-26fa-459b-902a-2e677c22aad2",
   "metadata": {},
   "source": [
    "### Answer"
   ]
  },
  {
   "cell_type": "markdown",
   "id": "51b84dcb-69ba-4e74-84e1-e2125f1447eb",
   "metadata": {},
   "source": [
    "Here's a Python program that creates two threads - one to print a list of squares and the other to print a list of cubes:"
   ]
  },
  {
   "cell_type": "code",
   "execution_count": 1,
   "id": "affcbec7-11fa-4949-9fa7-93ff5cc0ecca",
   "metadata": {},
   "outputs": [
    {
     "name": "stdout",
     "output_type": "stream",
     "text": [
      "Squares: [1, 4, 9, 16, 25, 36, 49, 64, 81, 100]\n",
      "Cubes: [1, 8, 27, 64, 125, 216, 343, 512, 729, 1000]\n"
     ]
    }
   ],
   "source": [
    "import threading\n",
    "\n",
    "def print_squares():\n",
    "    squares = [i*i for i in range(1, 11)]\n",
    "    print(\"Squares:\", squares)\n",
    "\n",
    "def print_cubes():\n",
    "    cubes = [i*i*i for i in range(1, 11)]\n",
    "    print(\"Cubes:\", cubes)\n",
    "\n",
    "# create two threads\n",
    "t1 = threading.Thread(target=print_squares)\n",
    "t2 = threading.Thread(target=print_cubes)\n",
    "\n",
    "# start the threads\n",
    "t1.start()\n",
    "t2.start()\n",
    "\n",
    "# wait for the threads to finish\n",
    "t1.join()\n",
    "t2.join()"
   ]
  },
  {
   "cell_type": "markdown",
   "id": "82bc9520-a236-49f8-80f6-476467bbf55d",
   "metadata": {},
   "source": [
    "In this program, we define two functions print_squares and print_cubes that generate a list of squares and cubes, respectively, and print them to the console. We then create two thread objects, t1 and t2, that call these functions using the target parameter. Finally, we start the threads using the start() method and wait for them to complete using the join() method. When we run this program, it will give above output."
   ]
  },
  {
   "cell_type": "markdown",
   "id": "4a3ae690-ee4f-4e12-a310-08af071d214d",
   "metadata": {},
   "source": [
    "### Question 5"
   ]
  },
  {
   "cell_type": "markdown",
   "id": "d32f9cf2-9cd5-4369-a019-34756d6a825c",
   "metadata": {},
   "source": [
    "State advantages and disadvantages of multithreading."
   ]
  },
  {
   "cell_type": "markdown",
   "id": "d4332876-5fd5-4727-8f5a-8ba60ebb07e3",
   "metadata": {},
   "source": [
    "### Answer"
   ]
  },
  {
   "cell_type": "markdown",
   "id": "db07efaf-2491-4ad7-bb63-0ce899a17f1b",
   "metadata": {},
   "source": [
    "Multithreading has both advantages and disadvantages, and they are as follows:\n",
    "\n",
    "Advantages:\n",
    "\n",
    "1. Improved Performance: One of the biggest advantages of multithreading is that it can improve the overall performance of a program by utilizing the available resources efficiently. By running multiple threads concurrently, a program can perform multiple tasks simultaneously and hence can execute faster.\n",
    "\n",
    "2. Responsiveness: Multithreading can improve the responsiveness of a program by allowing it to handle multiple user requests concurrently. This is especially useful in applications that require a lot of user input and interaction.\n",
    "\n",
    "3. Resource Sharing: Threads can share resources such as memory and file handles, which can result in reduced overhead and improved efficiency.\n",
    "\n",
    "4. Modular Design: Multithreading can make it easier to design a program that is modular and easier to understand. By breaking a program into smaller threads, it can be easier to manage and maintain.\n",
    "\n",
    "Disadvantages:\n",
    "\n",
    "1. Complexity: Multithreading can add complexity to a program, which can make it harder to design, implement, and debug. It can be difficult to ensure that all threads are synchronized correctly and are accessing shared resources safely.\n",
    "\n",
    "2. Deadlocks and Race Conditions: Multithreading can introduce deadlocks and race conditions, which can be difficult to detect and fix. Deadlocks occur when two or more threads are blocked waiting for each other to release a resource. Race conditions occur when two or more threads access the same resource at the same time, which can lead to unexpected behavior.\n",
    "\n",
    "3. Increased Overhead: Multithreading can introduce increased overhead due to the need for thread synchronization and communication. This overhead can offset the performance gains from running multiple threads concurrently.\n",
    "\n",
    "4. Platform Dependency: Multithreading can be platform-dependent, which means that code that works on one platform may not work on another platform. This can make it harder to write portable code."
   ]
  },
  {
   "cell_type": "markdown",
   "id": "b31bb91f-0ad8-4347-b7d0-251af95bd787",
   "metadata": {},
   "source": [
    "### Question 6"
   ]
  },
  {
   "cell_type": "markdown",
   "id": "28dc1e7e-2468-4059-b423-25a03db01ada",
   "metadata": {},
   "source": [
    "Explain deadlocks and race conditions."
   ]
  },
  {
   "cell_type": "markdown",
   "id": "f3021b2c-0a1b-4cb0-aee8-12d3086408c0",
   "metadata": {},
   "source": [
    "### Answer"
   ]
  },
  {
   "cell_type": "markdown",
   "id": "2c5025dd-c230-4c74-b95a-2b8bf054957e",
   "metadata": {},
   "source": [
    "Deadlocks and race conditions are two common problems that can occur in multithreaded programs.\n",
    "\n",
    "Deadlock is a situation where two or more threads are blocked and waiting for each other to release a resource, causing a program to become unresponsive. It happens when two or more threads are waiting for a resource that is held by another thread in the same group, and none of them is releasing their resource. For example, if thread A has locked resource X and is waiting for resource Y to be released by thread B, while thread B has locked resource Y and is waiting for resource X to be released by thread A, a deadlock occurs.\n",
    "\n",
    "Race condition is a situation where two or more threads are accessing the same shared resource, and the final outcome depends on the order in which the threads execute. It occurs when multiple threads try to access and modify the same shared variable at the same time, and the order of execution cannot be predicted. For example, if two threads are trying to increment the same variable at the same time, the result may be unpredictable as they can both read the variable, increment it, and write it back at the same time, resulting in inconsistent results.\n",
    "\n",
    "Both deadlocks and race conditions can be difficult to detect and resolve, and can cause a program to behave unexpectedly or even crash. To avoid these problems, it is important to use proper synchronization techniques, such as locks and semaphores, to ensure that shared resources are accessed in a safe and orderly manner. It is also important to design programs in a way that minimizes the risk of deadlocks and race conditions, and to test them thoroughly to ensure that they behave correctly under different scenarios."
   ]
  },
  {
   "cell_type": "code",
   "execution_count": null,
   "id": "ef67d632-43c3-4965-acf3-b3c4dcbcd28e",
   "metadata": {},
   "outputs": [],
   "source": []
  }
 ],
 "metadata": {
  "kernelspec": {
   "display_name": "Python 3 (ipykernel)",
   "language": "python",
   "name": "python3"
  },
  "language_info": {
   "codemirror_mode": {
    "name": "ipython",
    "version": 3
   },
   "file_extension": ".py",
   "mimetype": "text/x-python",
   "name": "python",
   "nbconvert_exporter": "python",
   "pygments_lexer": "ipython3",
   "version": "3.10.8"
  }
 },
 "nbformat": 4,
 "nbformat_minor": 5
}
