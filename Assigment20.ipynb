{
 "cells": [
  {
   "cell_type": "markdown",
   "id": "43bde456-8af7-477f-bd43-63cdfeeb176a",
   "metadata": {},
   "source": [
    "Question 1"
   ]
  },
  {
   "cell_type": "markdown",
   "id": "d046a090-53c2-47ac-94e2-f57ad413b356",
   "metadata": {},
   "source": [
    "Create a function which will take a list as an argument and return the product of all the numbers\n",
    "after creating a flat list.\n",
    "Use the below-given list as an argument for your function.\n",
    "\n",
    "list1 = [1,2,3,4, [44,55,66, True], False, (34,56,78,89,34), {1,2,3,3,2,1}, {1:34, \"key2\": [55, 67, 78, 89], 4: (45,\n",
    "22, 61, 34)}, [56, 'data science'], 'Machine Learning']\n",
    "\n",
    "Note: you must extract numeric keys and values of the dictionary also."
   ]
  },
  {
   "cell_type": "code",
   "execution_count": 1,
   "id": "71475cf1-c985-4ed0-b9b3-584d2e45cc12",
   "metadata": {},
   "outputs": [
    {
     "name": "stdout",
     "output_type": "stream",
     "text": [
      "0\n"
     ]
    }
   ],
   "source": [
    "from collections.abc import Iterable\n",
    "import numpy as np\n",
    "\n",
    "def flatten_and_product(input_list):\n",
    "    flat_list = []\n",
    "    \n",
    "    def flatten(item):\n",
    "        if isinstance(item, dict):\n",
    "            for key, value in item.items():\n",
    "                flatten(key)\n",
    "                flatten(value)\n",
    "        elif isinstance(item, Iterable) and not isinstance(item, (str, bytes)):\n",
    "            for sub_item in item:\n",
    "                flatten(sub_item)\n",
    "        else:\n",
    "            flat_list.append(item)\n",
    "    \n",
    "    flatten(input_list)\n",
    "    \n",
    "    numeric_values = [x for x in flat_list if isinstance(x, (int, float))]\n",
    "    \n",
    "    return np.prod(numeric_values)\n",
    "\n",
    "# Given list\n",
    "list1 = [\n",
    "    1, 2, 3, 4, [44, 55, 66, True], False, (34, 56, 78, 89, 34), \n",
    "    {1, 2, 3, 3, 2, 1}, {1: 34, \"key2\": [55, 67, 78, 89], 4: (45, 22, 61, 34)}, \n",
    "    [56, 'data science'], 'Machine Learning'\n",
    "]\n",
    "\n",
    "result = flatten_and_product(list1)\n",
    "print(result)\n"
   ]
  },
  {
   "cell_type": "markdown",
   "id": "60c2f988-802f-4e22-a12a-84f2f718e506",
   "metadata": {},
   "source": [
    "Question 2"
   ]
  },
  {
   "cell_type": "markdown",
   "id": "a0fd2895-6178-4405-84e6-bb7378d5f43e",
   "metadata": {},
   "source": [
    "Write a python program for encrypting a message sent to you by your friend. The logic of encryption\n",
    "should be such that, for a the output should be z. For b, the output should be y. For c, the output should\n",
    "be x respectively. Also, the whitespace should be replaced with a dollar sign. Keep the punctuation\n",
    "marks unchanged.\n",
    "\n",
    "Input Sentence: I want to become a Data Scientist.\n",
    "\n",
    "Encrypt the above input sentence using the program you just created.\n",
    "\n",
    "Note: Convert the given input sentence into lowercase before encrypting. The final output should be\n",
    "lowercase."
   ]
  },
  {
   "cell_type": "code",
   "execution_count": 3,
   "id": "2c572b4e-7808-489b-be1d-b92f749b2d37",
   "metadata": {},
   "outputs": [
    {
     "name": "stdout",
     "output_type": "stream",
     "text": [
      "r$dzmg$gl$yvxlnv$z$wzgz$hxrvmgrhg.\n"
     ]
    }
   ],
   "source": [
    "def encrypt_message(message):\n",
    "    # Define the encryption mapping\n",
    "    def encrypt_char(char):\n",
    "        if char.isalpha():\n",
    "            return chr(219 - ord(char))\n",
    "        elif char == ' ':\n",
    "            return '$'\n",
    "        else:\n",
    "            return char\n",
    "    \n",
    "    # Convert the message to lowercase\n",
    "    message = message.lower()\n",
    "    \n",
    "    # Encrypt the message\n",
    "    encrypted_message = ''.join(encrypt_char(char) for char in message)\n",
    "    \n",
    "    return encrypted_message\n",
    "\n",
    "# Input Sentence\n",
    "input_sentence = \"I want to become a Data Scientist.\"\n",
    "\n",
    "# Encrypt the input sentence\n",
    "encrypted_sentence = encrypt_message(input_sentence)\n",
    "print(encrypted_sentence)\n"
   ]
  },
  {
   "cell_type": "code",
   "execution_count": null,
   "id": "eb1675c1-dfa5-4718-a049-8d7c8f54ccbc",
   "metadata": {},
   "outputs": [],
   "source": []
  }
 ],
 "metadata": {
  "kernelspec": {
   "display_name": "Python 3 (ipykernel)",
   "language": "python",
   "name": "python3"
  },
  "language_info": {
   "codemirror_mode": {
    "name": "ipython",
    "version": 3
   },
   "file_extension": ".py",
   "mimetype": "text/x-python",
   "name": "python",
   "nbconvert_exporter": "python",
   "pygments_lexer": "ipython3",
   "version": "3.10.8"
  }
 },
 "nbformat": 4,
 "nbformat_minor": 5
}
