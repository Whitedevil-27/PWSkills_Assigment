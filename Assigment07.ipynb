{
 "cells": [
  {
   "cell_type": "markdown",
   "id": "12e8268b-3110-49ee-95d2-3970edbe8734",
   "metadata": {},
   "source": [
    "## Assigment"
   ]
  },
  {
   "cell_type": "markdown",
   "id": "095147e9-a549-4c26-90aa-a0dc90854e98",
   "metadata": {},
   "source": [
    "### Question 1"
   ]
  },
  {
   "cell_type": "markdown",
   "id": "df387077-5c67-4968-8f11-1f8c9625eb22",
   "metadata": {},
   "source": [
    "You are writing code for a company. The requirement of the company is that you create a python\n",
    "function that will check whether the password entered by the user is correct or not. The function should\n",
    "take the password as input and return the string “Valid Password” if the entered password follows the\n",
    "below-given password guidelines else it should return “Invalid Password”.\n",
    "\n",
    "Note:\n",
    "1. The Password should contain at least two uppercase letters and at least two lowercase letters.\n",
    "2. The Password should contain at least a number and three special characters.\n",
    "3. The length of the password should be 10 characters long."
   ]
  },
  {
   "cell_type": "markdown",
   "id": "43ac78c4-3cdf-44df-ad30-2f54a59eaa9b",
   "metadata": {},
   "source": [
    "### Answer"
   ]
  },
  {
   "cell_type": "code",
   "execution_count": 58,
   "id": "20a4a418-8383-4c88-8c50-df8954b38091",
   "metadata": {},
   "outputs": [],
   "source": [
    "def check_password(password):\n",
    "    # Check length of password\n",
    "    if len(password) >= 10:\n",
    "            \n",
    "    # Check for uppercase letters\n",
    "        upper_count = 0\n",
    "        for char in password:\n",
    "            if char.isupper():\n",
    "                upper_count += 1\n",
    "        if upper_count < 2:\n",
    "            return \"Invalid Password\"\n",
    "           \n",
    "        # Check for lowercase letters\n",
    "        lower_count = 0\n",
    "        for char in password:\n",
    "            if char.islower():\n",
    "                lower_count += 1\n",
    "        if lower_count < 2:\n",
    "            return \"Invalid Password\"\n",
    "        \n",
    "        # Check for digits\n",
    "        digit_count = 0\n",
    "        for char in password:\n",
    "            if char.isdigit():\n",
    "                digit_count += 1\n",
    "        if digit_count < 1:\n",
    "            return \"Invalid Password\"\n",
    "        \n",
    "        # Check for special characters\n",
    "        special_count = 0\n",
    "        for char in password:\n",
    "            if not char.isalnum():\n",
    "                special_count += 1\n",
    "        if special_count < 3:\n",
    "            return \"Invalid Password\"\n",
    "        \n",
    "        # If all checks pass, return valid\n",
    "        return \"Valid Password\"\n"
   ]
  },
  {
   "cell_type": "code",
   "execution_count": 59,
   "id": "0284c33f-9e79-45cb-b1be-0d49ef54feaf",
   "metadata": {},
   "outputs": [
    {
     "name": "stdout",
     "output_type": "stream",
     "text": [
      "Invalid Password\n"
     ]
    }
   ],
   "source": [
    "password = \"MyPassword12!\"\n",
    "result = check_password(password)\n",
    "print(result)  # Output: Valid Password\n"
   ]
  },
  {
   "cell_type": "markdown",
   "id": "8b0ed5a1-7972-4bae-b890-302cdfae8756",
   "metadata": {},
   "source": [
    "### Question 2"
   ]
  },
  {
   "cell_type": "markdown",
   "id": "25417ab3-6c75-42fb-b14d-ec9f0429dc78",
   "metadata": {},
   "source": [
    "Solve the below-given questions using at least one of the following:\n",
    "1. Lambda function\n",
    "2. Filter function\n",
    "3. Map function\n",
    "4. List Comprehension\n",
    "- Check if the string starts with a particular letter\n",
    "- Check if the string is numeric\n",
    "- Sort a list of tuples having fruit names and their quantity. [(\"mango\",99),(\"orange\",80), (\"grapes\", 1000)]\n",
    "- Find the squares of numbers from 1 to 10\n",
    "- Find the cube root of numbers from 1 to 10\n",
    "- Check if a given number is even\n",
    "- Filter odd numbers from the given list. [1,2,3,4,5,6,7,8,9,10]\n",
    "- Sort a list of integers into positive and negative integers lists.\n",
    "[1,2,3,4,5,6,-1,-2,-3,-4,-5,0]"
   ]
  },
  {
   "cell_type": "markdown",
   "id": "86ef7d58-fa2f-4edf-9494-d815a5a4ad2f",
   "metadata": {},
   "source": [
    "### Answer"
   ]
  },
  {
   "cell_type": "code",
   "execution_count": 60,
   "id": "7717e290-a004-4b10-89b2-3a94a791fcd9",
   "metadata": {},
   "outputs": [
    {
     "name": "stdout",
     "output_type": "stream",
     "text": [
      "True\n",
      "['apple']\n"
     ]
    }
   ],
   "source": [
    "#Check if the string starts with a particular letter\n",
    "# using lambda function\n",
    "starts_with = lambda x, letter: True if x.startswith(letter) else False\n",
    "result = starts_with(\"python\", \"p\")\n",
    "print(result)  \n",
    "\n",
    "# using list comprehension\n",
    "strings = [\"apple\", \"banana\", \"cherry\", \"pineapple\"]\n",
    "result = [x for x in strings if x.startswith(\"a\")]\n",
    "print(result)  \n",
    "\n",
    "    "
   ]
  },
  {
   "cell_type": "code",
   "execution_count": 61,
   "id": "5de45f77-426f-41e1-ab4e-bd958949e877",
   "metadata": {},
   "outputs": [
    {
     "name": "stdout",
     "output_type": "stream",
     "text": [
      "True\n",
      "['123', '456']\n"
     ]
    }
   ],
   "source": [
    "#Check if the string is numeric\n",
    "# using lambda function\n",
    "is_numeric = lambda x: x.isnumeric()\n",
    "result = is_numeric(\"1234\")\n",
    "print(result)  \n",
    "\n",
    "# using filter function\n",
    "strings = [\"123\", \"apple\", \"456\", \"orange\"]\n",
    "result = list(filter(lambda x: x.isnumeric(), strings))\n",
    "print(result)  "
   ]
  },
  {
   "cell_type": "code",
   "execution_count": 62,
   "id": "b5ac3507-f859-44ff-9ce7-757541f308b7",
   "metadata": {},
   "outputs": [
    {
     "name": "stdout",
     "output_type": "stream",
     "text": [
      "[('orange', 80), ('mango', 99), ('grapes', 1000)]\n",
      "[('orange', 80), ('mango', 99), ('grapes', 1000)]\n"
     ]
    }
   ],
   "source": [
    "#Sort a list of tuples having fruit names and their quantity. [(\"mango\",99),(\"orange\",80), (\"grapes\", 1000)]\n",
    "# using lambda function and sort function\n",
    "fruits = [(\"mango\", 99), (\"orange\", 80), (\"grapes\", 1000)]\n",
    "fruits.sort(key=lambda x: x[1])\n",
    "print(fruits)  \n",
    "\n",
    "# using sorted function\n",
    "fruits = [(\"mango\", 99), (\"orange\", 80), (\"grapes\", 1000)]\n",
    "result = sorted(fruits, key=lambda x: x[1])\n",
    "print(result)  \n"
   ]
  },
  {
   "cell_type": "code",
   "execution_count": 63,
   "id": "0748bb8d-32fd-436b-8f77-2e5e989c81f2",
   "metadata": {},
   "outputs": [
    {
     "name": "stdout",
     "output_type": "stream",
     "text": [
      "[1, 4, 9, 16, 25, 36, 49, 64, 81, 100]\n",
      "[1, 4, 9, 16, 25, 36, 49, 64, 81, 100]\n"
     ]
    }
   ],
   "source": [
    "#Find the squares of numbers from 1 to 10\n",
    "# using lambda function and map function\n",
    "nums = range(1, 11)\n",
    "squares = list(map(lambda x: x ** 2, nums))\n",
    "print(squares) \n",
    "\n",
    "# using list comprehension\n",
    "nums = range(1, 11)\n",
    "squares = [x ** 2 for x in nums]\n",
    "print(squares)  "
   ]
  },
  {
   "cell_type": "code",
   "execution_count": 64,
   "id": "e579de92-21c6-46c4-be83-d57939175c06",
   "metadata": {},
   "outputs": [
    {
     "name": "stdout",
     "output_type": "stream",
     "text": [
      "[1.0, 1.2599210498948732, 1.4422495703074083, 1.5874010519681994, 1.7099759466766968, 1.8171205928321397, 1.912931182772389, 2.0, 2.080083823051904, 2.154434690031884]\n",
      "[1.0, 1.2599210498948732, 1.4422495703074083, 1.5874010519681994, 1.7099759466766968, 1.8171205928321397, 1.912931182772389, 2.0, 2.080083823051904, 2.154434690031884]\n"
     ]
    }
   ],
   "source": [
    "#Find the cube root of numbers from 1 to 10\n",
    "# using lambda function and map function\n",
    "nums = range(1, 11)\n",
    "cube_roots = list(map(lambda x: x ** (1/3), nums))\n",
    "print(cube_roots)  \n",
    "\n",
    "# using list comprehension\n",
    "nums = range(1, 11)\n",
    "cube_roots = [x ** (1/3) for x in nums]\n",
    "print(cube_roots)  \n"
   ]
  },
  {
   "cell_type": "code",
   "execution_count": 65,
   "id": "33d49965-64d4-433e-9125-62942946df37",
   "metadata": {},
   "outputs": [
    {
     "name": "stdout",
     "output_type": "stream",
     "text": [
      "True\n",
      "[2, 4, 6]\n"
     ]
    }
   ],
   "source": [
    "#Check if a given number is even\n",
    "#using lambda function\n",
    "even = lambda a: a%2==0\n",
    "result = even(12)\n",
    "print(result)\n",
    "\n",
    "# using listy comprehension\n",
    "lst = [ 1,2,3,4,5,6]\n",
    "even = [x for x in lst if x%2==0 ]\n",
    "print(even)"
   ]
  },
  {
   "cell_type": "code",
   "execution_count": 66,
   "id": "659ff80f-e8da-4f7c-83b0-150030560772",
   "metadata": {},
   "outputs": [
    {
     "name": "stdout",
     "output_type": "stream",
     "text": [
      "[1, 3, 5, 7, 9]\n",
      "[1, 3, 5, 7, 9]\n"
     ]
    }
   ],
   "source": [
    "#Filter odd numbers from the given list. [1,2,3,4,5,6,7,8,9,10]\n",
    "# using filter and lambda function\n",
    "nums = [1, 2, 3, 4, 5, 6, 7, 8, 9, 10]\n",
    "odd_nums = list(filter(lambda x: x % 2 != 0, nums))\n",
    "print(odd_nums)  \n",
    "\n",
    "# using list comprehension\n",
    "nums = [1, 2, 3, 4, 5, 6, 7, 8, 9, 10]\n",
    "odd_nums = [x for x in nums if x % 2 != 0]\n",
    "print(odd_nums)  \n"
   ]
  },
  {
   "cell_type": "code",
   "execution_count": 67,
   "id": "e367a3fa-96b2-48a4-918d-8b49f15d7afc",
   "metadata": {},
   "outputs": [
    {
     "name": "stdout",
     "output_type": "stream",
     "text": [
      "Positive integers: [1, 2, 3, 4, 5, 6]\n",
      "Negative integers: [-1, -2, -3, -4, -5]\n",
      "Positive integers: [1, 2, 3, 4, 5, 6]\n",
      "Negative integers: [-1, -2, -3, -4, -5]\n"
     ]
    }
   ],
   "source": [
    "# using lambda function\n",
    "nums = [1, 2, 3, 4, 5, 6, -1, -2, -3, -4, -5, 0]\n",
    "\n",
    "positive_nums = list(filter(lambda x: x > 0, nums))\n",
    "negative_nums = list(filter(lambda x: x < 0, nums))\n",
    "\n",
    "print(\"Positive integers:\", positive_nums)\n",
    "print(\"Negative integers:\", negative_nums)\n",
    "\n",
    "# using list comprehension\n",
    "nums = [1, 2, 3, 4, 5, 6, -1, -2, -3, -4, -5, 0]\n",
    "\n",
    "positive_nums = [num for num in nums if num > 0]\n",
    "negative_nums = [num for num in nums if num < 0]\n",
    "\n",
    "print(\"Positive integers:\", positive_nums)\n",
    "print(\"Negative integers:\", negative_nums)\n"
   ]
  },
  {
   "cell_type": "code",
   "execution_count": null,
   "id": "31a7204b-157d-4c46-83cc-2eb078c60d39",
   "metadata": {},
   "outputs": [],
   "source": []
  }
 ],
 "metadata": {
  "kernelspec": {
   "display_name": "Python 3 (ipykernel)",
   "language": "python",
   "name": "python3"
  },
  "language_info": {
   "codemirror_mode": {
    "name": "ipython",
    "version": 3
   },
   "file_extension": ".py",
   "mimetype": "text/x-python",
   "name": "python",
   "nbconvert_exporter": "python",
   "pygments_lexer": "ipython3",
   "version": "3.10.8"
  }
 },
 "nbformat": 4,
 "nbformat_minor": 5
}
