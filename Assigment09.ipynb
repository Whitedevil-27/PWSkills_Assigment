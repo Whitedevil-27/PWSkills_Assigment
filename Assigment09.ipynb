{
 "cells": [
  {
   "cell_type": "markdown",
   "id": "b2285fe7-3694-4877-b2e4-48f3962f5509",
   "metadata": {},
   "source": [
    "## Assigment"
   ]
  },
  {
   "cell_type": "markdown",
   "id": "44a1c546-4967-4138-ba89-61a8d2ea2a80",
   "metadata": {},
   "source": [
    "### Question 1"
   ]
  },
  {
   "cell_type": "markdown",
   "id": "ac6c4ca6-9577-4ebe-bcbe-267a8d784374",
   "metadata": {},
   "source": [
    "Create a vehicle class with an init method having instance variables as name_of_vehicle, max_speed and average_of_vehicle."
   ]
  },
  {
   "cell_type": "markdown",
   "id": "90490cf1-c196-4260-9cf9-c1ba837b24c7",
   "metadata": {},
   "source": [
    "### Answer"
   ]
  },
  {
   "cell_type": "code",
   "execution_count": 9,
   "id": "2e891dfd-5dc2-405a-9b32-3d4d17b02c65",
   "metadata": {},
   "outputs": [],
   "source": [
    "class Vehicle:\n",
    "    def __init__(self, name_of_vehicle, max_speed, average_speed):\n",
    "        self.name_of_vehicle = name_of_vehicle\n",
    "        self.max_speed = max_speed\n",
    "        self.average_speed = average_speed\n"
   ]
  },
  {
   "cell_type": "code",
   "execution_count": 10,
   "id": "6cec2c20-c789-4447-81e8-7e989d10bc12",
   "metadata": {},
   "outputs": [
    {
     "name": "stdout",
     "output_type": "stream",
     "text": [
      "Toyota Corolla\n",
      "180\n",
      "60\n"
     ]
    }
   ],
   "source": [
    "my_car = Vehicle(\"Toyota Corolla\", 180, 60)\n",
    "print(my_car.name_of_vehicle)   \n",
    "print(my_car.max_speed)         \n",
    "print(my_car.average_speed)     \n"
   ]
  },
  {
   "cell_type": "markdown",
   "id": "08ab4b63-111c-49c6-aa2e-d0e281f1f3e3",
   "metadata": {},
   "source": [
    "### Question 2"
   ]
  },
  {
   "cell_type": "markdown",
   "id": "efeef548-f529-44f9-9a6a-7e6cda35788b",
   "metadata": {},
   "source": [
    "Create a child class car from the vehicle class created in Que 1, which will inherit the vehicle class.\n",
    "Create a method named seating_capacity which takes capacity as an argument and returns the name of\n",
    "the vehicle and its seating capacity."
   ]
  },
  {
   "cell_type": "markdown",
   "id": "a154103f-73fc-4cd7-92d1-3719245398cc",
   "metadata": {},
   "source": [
    "### Answer"
   ]
  },
  {
   "cell_type": "code",
   "execution_count": 11,
   "id": "063992ef-05ac-4839-8c58-4c387986f707",
   "metadata": {},
   "outputs": [],
   "source": [
    "class Car(Vehicle):\n",
    "    def seating_capacity(self, capacity):\n",
    "        return f\"{self.name_of_vehicle} has a seating capacity of {capacity} people.\"\n"
   ]
  },
  {
   "cell_type": "code",
   "execution_count": 12,
   "id": "60b3f187-4623-4e7b-8e21-17c203249900",
   "metadata": {},
   "outputs": [
    {
     "name": "stdout",
     "output_type": "stream",
     "text": [
      "Toyota Corolla has a seating capacity of 5 people.\n"
     ]
    }
   ],
   "source": [
    "my_car = Car(\"Toyota Corolla\", 180, 60)\n",
    "print(my_car.seating_capacity(5))   \n"
   ]
  },
  {
   "cell_type": "markdown",
   "id": "2d330f47-813d-42cf-ad50-e33c1ed44bd6",
   "metadata": {},
   "source": [
    "### Question 3"
   ]
  },
  {
   "cell_type": "markdown",
   "id": "93e2f5d9-30c1-412c-8acc-122d033c33b6",
   "metadata": {},
   "source": [
    "What is multiple inheritance? Write a python code to demonstrate multiple inheritance."
   ]
  },
  {
   "cell_type": "markdown",
   "id": "bb1c45f8-8491-4035-abbd-07829826a1c6",
   "metadata": {},
   "source": [
    "### Answer"
   ]
  },
  {
   "cell_type": "markdown",
   "id": "5614fd05-6012-49f4-a394-a332a6dcec14",
   "metadata": {},
   "source": [
    "Multiple inheritance is a feature of object-oriented programming languages that allows a class to inherit from multiple parent classes. In Python, we can use multiple inheritance by listing the parent classes in parentheses after the class name, separated by commas.\n",
    "\n",
    "Here's an example of how to use multiple inheritance in Python:"
   ]
  },
  {
   "cell_type": "code",
   "execution_count": 13,
   "id": "f15ef887-4582-4c33-adf5-ea29c1bc478b",
   "metadata": {},
   "outputs": [
    {
     "name": "stdout",
     "output_type": "stream",
     "text": [
      "Method A\n",
      "Method B\n",
      "Method C\n"
     ]
    }
   ],
   "source": [
    "class A:\n",
    "    def method_a(self):\n",
    "        print(\"Method A\")\n",
    "\n",
    "class B:\n",
    "    def method_b(self):\n",
    "        print(\"Method B\")\n",
    "\n",
    "class C(A, B):\n",
    "    def method_c(self):\n",
    "        print(\"Method C\")\n",
    "\n",
    "my_object = C()\n",
    "my_object.method_a()   \n",
    "my_object.method_b()   \n",
    "my_object.method_c()   \n"
   ]
  },
  {
   "cell_type": "markdown",
   "id": "1a169403-3702-44db-9b34-844e375820a0",
   "metadata": {},
   "source": [
    "### Question 4"
   ]
  },
  {
   "cell_type": "markdown",
   "id": "442addec-5151-438f-8039-5928c6e7b4f4",
   "metadata": {},
   "source": [
    "What are getter and setter in python? Create a class and create a getter and a setter method in this\n",
    "class."
   ]
  },
  {
   "cell_type": "markdown",
   "id": "4eaa3903-97b2-496f-9ab3-af0e3d9dc4df",
   "metadata": {},
   "source": [
    "### Answer"
   ]
  },
  {
   "cell_type": "markdown",
   "id": "bf23e8da-5338-4151-a654-09866187efa0",
   "metadata": {},
   "source": [
    "In Python, a getter is a method that is used to retrieve the value of a private instance variable, while a setter is a method that is used to set the value of a private instance variable. Getters and setters are used to control access to instance variables and to ensure that the values of these variables are valid.\n",
    "\n",
    "Here's an example of how to create a class with a private instance variable and getter and setter methods:"
   ]
  },
  {
   "cell_type": "code",
   "execution_count": 14,
   "id": "99f356c4-fcc4-444e-a9d5-acef244be7d9",
   "metadata": {},
   "outputs": [
    {
     "name": "stdout",
     "output_type": "stream",
     "text": [
      "John\n",
      "30\n",
      "Jane\n",
      "35\n",
      "Age must be greater than 0.\n"
     ]
    }
   ],
   "source": [
    "class Person:\n",
    "    def __init__(self, name, age):\n",
    "        self._name = name\n",
    "        self._age = age\n",
    "\n",
    "    def get_name(self):\n",
    "        return self._name\n",
    "\n",
    "    def set_name(self, name):\n",
    "        self._name = name\n",
    "\n",
    "    def get_age(self):\n",
    "        return self._age\n",
    "\n",
    "    def set_age(self, age):\n",
    "        if age > 0:\n",
    "            self._age = age\n",
    "        else:\n",
    "            print(\"Age must be greater than 0.\")\n",
    "\n",
    "person = Person(\"John\", 30)\n",
    "print(person.get_name())   \n",
    "print(person.get_age())    \n",
    "\n",
    "person.set_name(\"Jane\")\n",
    "person.set_age(35)\n",
    "\n",
    "print(person.get_name())   \n",
    "print(person.get_age())    \n",
    "\n",
    "person.set_age(-5)   \n"
   ]
  },
  {
   "cell_type": "markdown",
   "id": "169d6216-d41f-4f79-8279-b6f01364ee9a",
   "metadata": {},
   "source": [
    "### Question 5"
   ]
  },
  {
   "cell_type": "markdown",
   "id": "de19decd-a3e4-4114-a315-f5fab8ae0ace",
   "metadata": {},
   "source": [
    "What is method overriding in python? Write a python code to demonstrate method overriding."
   ]
  },
  {
   "cell_type": "markdown",
   "id": "f400527b-bb30-405f-a290-3f55cdff0938",
   "metadata": {},
   "source": [
    "### Answer"
   ]
  },
  {
   "cell_type": "markdown",
   "id": "6f36dae3-aa64-4807-a203-1e1937d15a5d",
   "metadata": {},
   "source": [
    "Method overriding is a feature of object-oriented programming languages that allows a subclass to provide a different implementation of a method that is already defined in its superclass. In Python, method overriding is achieved by redefining a method in the subclass with the same name as the method in the superclass.\n",
    "\n",
    "Here's an example of how to override a method in Python:"
   ]
  },
  {
   "cell_type": "code",
   "execution_count": 15,
   "id": "eccc47ab-fcb5-4dfb-8b85-126f4f34e0b8",
   "metadata": {},
   "outputs": [
    {
     "name": "stdout",
     "output_type": "stream",
     "text": [
      "Area of square: 25\n",
      "Area of circle: 28.259999999999998\n"
     ]
    }
   ],
   "source": [
    "class Shape:\n",
    "    def area(self):\n",
    "        pass\n",
    "\n",
    "class Square(Shape):\n",
    "    def __init__(self, side):\n",
    "        self.side = side\n",
    "\n",
    "    def area(self):\n",
    "        return self.side * self.side\n",
    "\n",
    "class Circle(Shape):\n",
    "    def __init__(self, radius):\n",
    "        self.radius = radius\n",
    "\n",
    "    def area(self):\n",
    "        return 3.14 * self.radius * self.radius\n",
    "\n",
    "square = Square(5)\n",
    "circle = Circle(3)\n",
    "\n",
    "print(\"Area of square:\", square.area())   \n",
    "print(\"Area of circle:\", circle.area())   \n"
   ]
  },
  {
   "cell_type": "code",
   "execution_count": null,
   "id": "cdc01014-003e-4fa1-93f5-bc063ebb8a02",
   "metadata": {},
   "outputs": [],
   "source": []
  }
 ],
 "metadata": {
  "kernelspec": {
   "display_name": "Python 3 (ipykernel)",
   "language": "python",
   "name": "python3"
  },
  "language_info": {
   "codemirror_mode": {
    "name": "ipython",
    "version": 3
   },
   "file_extension": ".py",
   "mimetype": "text/x-python",
   "name": "python",
   "nbconvert_exporter": "python",
   "pygments_lexer": "ipython3",
   "version": "3.10.8"
  }
 },
 "nbformat": 4,
 "nbformat_minor": 5
}
