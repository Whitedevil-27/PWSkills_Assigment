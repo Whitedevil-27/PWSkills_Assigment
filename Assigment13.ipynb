{
 "cells": [
  {
   "cell_type": "markdown",
   "id": "78cb17e9-4bc0-4d56-be3b-8342a4b7195c",
   "metadata": {},
   "source": [
    "## Assigment"
   ]
  },
  {
   "cell_type": "markdown",
   "id": "f260aa17-1e8c-42a5-ae5d-e4dfcaf79ccb",
   "metadata": {},
   "source": [
    "### Question 1"
   ]
  },
  {
   "cell_type": "markdown",
   "id": "9a212e4a-648b-436c-b964-8af60a59d87f",
   "metadata": {},
   "source": [
    "Explain why we have to use the Exception class while creating a Custom Exception.\n",
    "\n",
    "Note: Here Exception class refers to the base class for all the exceptions."
   ]
  },
  {
   "cell_type": "markdown",
   "id": "9cc20e54-67b9-4838-84aa-d91247f1955c",
   "metadata": {},
   "source": [
    "### Answer"
   ]
  },
  {
   "cell_type": "markdown",
   "id": "84b6b9ea-9d16-44a3-96ef-e7d7b407b50b",
   "metadata": {},
   "source": [
    "In Python, the Exception class is the base class for all built-in exceptions. When creating a custom exception, it is typically recommended to subclass Exception in order to inherit its default behavior and functionality.\n",
    "\n",
    "By subclassing Exception, we can ensure that our custom exception class behaves in a consistent and predictable way with respect to other exceptions in the language. This includes features like the ability to set custom error messages, stack traces, and other attributes associated with the exception.\n",
    "\n",
    "Furthermore, by subclassing Exception, our custom exception class can be used in the same way as other built-in exceptions in Python. This means that we can raise and catch our custom exception using the same try/except syntax, and that it will be handled in a similar way to other exceptions in the language.\n",
    "\n",
    "Overall, by inheriting from the Exception class, we can create a custom exception that is well-behaved, consistent with other exceptions in the language, and can be easily integrated into existing code."
   ]
  },
  {
   "cell_type": "markdown",
   "id": "f1477de3-5ba0-45a4-81a4-70b2ab8bd8ee",
   "metadata": {},
   "source": [
    "### Question 2"
   ]
  },
  {
   "cell_type": "markdown",
   "id": "4e12404b-ab17-4a44-bcbe-a4d7be2c2251",
   "metadata": {},
   "source": [
    "Write a python program to print Python Exception Hierarchy."
   ]
  },
  {
   "cell_type": "markdown",
   "id": "0492b311-3a2c-44ef-aa84-31cdd1568e18",
   "metadata": {},
   "source": [
    "### Answer"
   ]
  },
  {
   "cell_type": "code",
   "execution_count": null,
   "id": "908b5ce7-c587-4703-a892-888a82e86412",
   "metadata": {},
   "outputs": [],
   "source": [
    "# Print the Python exception hierarchy\n",
    "def print_exception_hierarchy(exceptions, indent=0):\n",
    "    for exception in exceptions:\n",
    "        print(' ' * indent, exception.__name__)\n",
    "        print_exception_hierarchy(exception.__subclasses__(), indent+4)\n",
    "\n",
    "print('Python Exception Hierarchy:')\n",
    "print_exception_hierarchy([BaseException])\n"
   ]
  },
  {
   "cell_type": "markdown",
   "id": "f2ae8c8c-339a-4f95-9852-d29f4a7d5049",
   "metadata": {},
   "source": [
    "In this program, we define a function called print_exception_hierarchy() that takes a list of exceptions and an optional indent parameter. The function prints the name of each exception in the list, followed by a recursive call to itself with the subclasses of that exception and an increased indent level.\n",
    "\n",
    "We then call this function with the BaseException class as the starting point for the exception hierarchy. This class is the base class for all built-in exceptions in Python.\n",
    "\n",
    "When we run this program, it will print out the entire exception hierarchy in Python, with each exception indented according to its depth in the hierarchy. This can be useful for understanding the relationship between different exception classes and for identifying which exception to catch in a given situation."
   ]
  },
  {
   "cell_type": "markdown",
   "id": "04c9dfb0-18b3-4110-88bc-42475594b5cf",
   "metadata": {},
   "source": [
    "### Question 3"
   ]
  },
  {
   "cell_type": "markdown",
   "id": "0dc73660-b153-42fe-9d11-4e40281cb069",
   "metadata": {},
   "source": [
    "What errors are defined in the ArithmeticError class? Explain any two with an example."
   ]
  },
  {
   "cell_type": "markdown",
   "id": "de9915a0-e4bd-4650-87b0-602d65f54cc4",
   "metadata": {},
   "source": [
    "### Answer"
   ]
  },
  {
   "cell_type": "markdown",
   "id": "1705c648-aabf-47a6-8207-0cabd8bd5826",
   "metadata": {},
   "source": [
    "The ArithmeticError class is a built-in exception class in Python that represents errors that occur during arithmetic operations. This class is a subclass of the Exception class and is itself the base class for several other specific arithmetic-related exceptions.\n",
    "\n",
    "Here are two common exceptions that are defined within the ArithmeticError class:\n",
    "\n",
    "1. ZeroDivisionError: This exception is raised when attempting to divide a number by zero. For example:"
   ]
  },
  {
   "cell_type": "code",
   "execution_count": null,
   "id": "860afed3-b8b6-4589-9e88-7999d3969517",
   "metadata": {},
   "outputs": [],
   "source": [
    "a = 10\n",
    "b = 0\n",
    "try:\n",
    "    c = a / b\n",
    "except ZeroDivisionError:\n",
    "    print(\"Error: division by zero\")\n"
   ]
  },
  {
   "cell_type": "markdown",
   "id": "55f6c8de-0406-4561-bb9d-2a9979acdbbe",
   "metadata": {},
   "source": [
    "In this example, we attempt to divide the number a by zero, which raises a ZeroDivisionError. We catch this exception using a try/except block and print a custom error message to the console.\n",
    "\n",
    "2. OverflowError: This exception is raised when a calculation exceeds the maximum representable value for a given numeric type. For example:"
   ]
  },
  {
   "cell_type": "code",
   "execution_count": null,
   "id": "6504fdad-8955-409a-b24a-3926116169bb",
   "metadata": {},
   "outputs": [],
   "source": [
    "import sys\n",
    "a = sys.maxsize\n",
    "try:\n",
    "    b = a * 2\n",
    "except OverflowError:\n",
    "    print(\"Error: calculation exceeds maximum value\")\n"
   ]
  },
  {
   "cell_type": "markdown",
   "id": "15900264-4ea4-45a0-b2b5-46eb25689afb",
   "metadata": {},
   "source": [
    "In this example, we attempt to multiply the maximum representable integer value (sys.maxsize) by two, which exceeds the maximum value that can be represented by the int type on this system. This raises an OverflowError, which we catch using a try/except block and print a custom error message to the console.\n",
    "\n",
    "Both of these exceptions are defined within the ArithmeticError class, since they both represent errors that occur during arithmetic operations. By subclassing ArithmeticError, we can create custom exceptions that are specific to our application and that behave in a consistent way with respect to other arithmetic-related exceptions in Python."
   ]
  },
  {
   "cell_type": "markdown",
   "id": "ac60e286-b565-4d4c-b5ec-e033df31cb5e",
   "metadata": {},
   "source": [
    "### Question 4"
   ]
  },
  {
   "cell_type": "markdown",
   "id": "91da3236-28e3-4666-8127-3102159548e4",
   "metadata": {},
   "source": [
    "Why LookupError class is used? Explain with an example KeyError and IndexError."
   ]
  },
  {
   "cell_type": "markdown",
   "id": "9ccd6852-7cf7-49a1-86e4-d3f069b1a8cc",
   "metadata": {},
   "source": [
    "### Answer"
   ]
  },
  {
   "cell_type": "markdown",
   "id": "8b9eefaa-c2bf-4222-aff3-28602710fbea",
   "metadata": {},
   "source": [
    "The LookupError class is a built-in exception class in Python that is the base class for several specific exceptions related to lookup operations. A lookup operation typically involves accessing an element in a container such as a list, tuple, or dictionary. If the requested element does not exist, a LookupError exception is raised.\n",
    "\n",
    "Here are two specific exceptions that are subclasses of LookupError:\n",
    "\n",
    "1. KeyError: This exception is raised when trying to access a key that does not exist in a dictionary. For example:"
   ]
  },
  {
   "cell_type": "code",
   "execution_count": null,
   "id": "6ec5b6cd-79dd-44b2-b0cb-e5ae76663997",
   "metadata": {},
   "outputs": [],
   "source": [
    "d = {'a': 1, 'b': 2}\n",
    "try:\n",
    "    value = d['c']\n",
    "except KeyError:\n",
    "    print(\"Error: key not found in dictionary\")\n"
   ]
  },
  {
   "cell_type": "markdown",
   "id": "7682ae95-f8d9-4c22-8285-ef2272a67cf5",
   "metadata": {},
   "source": [
    "In this example, we attempt to access the value associated with the key 'c' in the dictionary d. However, this key does not exist in the dictionary, so a KeyError is raised. We catch this exception using a try/except block and print a custom error message to the console.\n",
    "\n",
    "2. IndexError: This exception is raised when trying to access an index that is out of range in a list or tuple. For example:"
   ]
  },
  {
   "cell_type": "code",
   "execution_count": null,
   "id": "4821b94c-6048-4dbf-a76b-344cbcfcaea3",
   "metadata": {},
   "outputs": [],
   "source": [
    "l = [1, 2, 3]\n",
    "try:\n",
    "    value = l[3]\n",
    "except IndexError:\n",
    "    print(\"Error: index out of range in list\")\n"
   ]
  },
  {
   "cell_type": "markdown",
   "id": "f7b6ebef-624b-455a-8f1c-5207ea6f91d8",
   "metadata": {},
   "source": [
    "In this example, we attempt to access the value at index 3 in the list l. However, this index is out of range for the list, which only has three elements. Therefore, an IndexError is raised. We catch this exception using a try/except block and print a custom error message to the console.\n",
    "\n",
    "Both KeyError and IndexError are subclasses of LookupError because they represent errors that occur during lookup operations. By subclassing LookupError, we can create custom exceptions that are specific to our application and that behave in a consistent way with respect to other lookup-related exceptions in Python."
   ]
  },
  {
   "cell_type": "markdown",
   "id": "130ce228-516a-4c96-869c-b8b74bc1edac",
   "metadata": {},
   "source": [
    "### Question 5"
   ]
  },
  {
   "cell_type": "markdown",
   "id": "92b48fab-fd0d-416c-8fca-be924b826063",
   "metadata": {},
   "source": [
    "Explain ImportError. What is ModuleNotFoundError?"
   ]
  },
  {
   "cell_type": "markdown",
   "id": "00994db9-9117-4109-94f7-466b7e7ed236",
   "metadata": {},
   "source": [
    "### Answer"
   ]
  },
  {
   "cell_type": "markdown",
   "id": "a5dc3a23-450d-4d39-80b2-41486c3496d6",
   "metadata": {},
   "source": [
    "In Python, ImportError is a built-in exception that is raised when a module, package, or object cannot be imported. This error can occur for a variety of reasons, such as when the module is not installed or when there is a problem with the Python path.\n",
    "\n",
    "ModuleNotFoundError is a subclass of ImportError that was added in Python 3.6. This exception is raised when a module is not found during an import statement. This error occurs when the interpreter cannot find the module in any of the directories specified in the sys.path variable. ModuleNotFoundError is more specific than ImportError because it only applies to cases where a module cannot be found.\n",
    "\n",
    "Here's an example of ModuleNotFoundError:"
   ]
  },
  {
   "cell_type": "code",
   "execution_count": null,
   "id": "ce01af23-3834-49af-afa1-bdc06a80933e",
   "metadata": {},
   "outputs": [],
   "source": [
    "try:\n",
    "    import nonexistent_module\n",
    "except ModuleNotFoundError:\n",
    "    print(\"Module not found\")\n"
   ]
  },
  {
   "cell_type": "markdown",
   "id": "1303ae30-e37c-4fb5-bc75-beb4986f0193",
   "metadata": {},
   "source": [
    "In this example, we attempt to import a nonexistent module called nonexistent_module. Since this module does not exist, a ModuleNotFoundError is raised. We catch this exception using a try/except block and print a custom error message to the console.\n",
    "\n",
    "In summary, both ImportError and ModuleNotFoundError are exceptions that can occur during an import statement. However, ModuleNotFoundError is a more specific exception that is raised when a module cannot be found, whereas ImportError can be raised for other reasons as well."
   ]
  },
  {
   "cell_type": "markdown",
   "id": "66b34370-0519-4717-87d0-e81fe7f5dbb4",
   "metadata": {},
   "source": [
    "### Question 6"
   ]
  },
  {
   "cell_type": "markdown",
   "id": "92f002a2-2dbc-4b99-8847-bcc4babd3ca7",
   "metadata": {},
   "source": [
    "List down some best practices for exception handling in python."
   ]
  },
  {
   "cell_type": "markdown",
   "id": "c3d650df-a115-4b3b-a1d7-e932df2f17ff",
   "metadata": {},
   "source": [
    "### Answer"
   ]
  },
  {
   "cell_type": "markdown",
   "id": "e58cac73-c5f6-4fce-9401-8cc92467caff",
   "metadata": {},
   "source": [
    "Here are some best practices for exception handling in Python:\n",
    "\n",
    "1. Use specific exception types: Catch specific exceptions rather than using a generic exception handler. This makes your code more robust and easier to debug.\n",
    "\n",
    "2. Keep try/except blocks small: Wrap only the code that can raise an exception in the try block. This will make it easier to identify which code is causing the error.\n",
    "\n",
    "3. Use finally blocks: Use finally blocks to ensure that critical resources, such as file handles or database connections, are always released.\n",
    "\n",
    "4. Log exceptions: Always log exceptions, including the stack trace, to aid in debugging.\n",
    "\n",
    "5. Don't catch exceptions you can't handle: Avoid catching exceptions that you cannot handle properly. This can mask errors and make debugging more difficult.\n",
    "\n",
    "6. Raise exceptions when appropriate: Raise exceptions when something goes wrong rather than returning error codes or None. This makes it easier to identify and handle errors.\n",
    "\n",
    "7. Be consistent with your exception handling style: Adopt a consistent style for your exception handling throughout your codebase.\n",
    "\n",
    "8. Keep error messages clear and concise: Error messages should be clear and concise, and provide enough information to aid in debugging.\n",
    "\n",
    "9. Use exception chaining: When handling exceptions, include the original exception using exception chaining. This provides more information about the root cause of the problem.\n",
    "\n",
    "10. Test your exception handling: Ensure that your exception handling code is tested thoroughly, including testing the handling of unexpected exceptions."
   ]
  },
  {
   "cell_type": "code",
   "execution_count": null,
   "id": "044037c8-bbc2-4185-9d66-073c90cfc5c2",
   "metadata": {},
   "outputs": [],
   "source": []
  }
 ],
 "metadata": {
  "kernelspec": {
   "display_name": "Python 3 (ipykernel)",
   "language": "python",
   "name": "python3"
  },
  "language_info": {
   "codemirror_mode": {
    "name": "ipython",
    "version": 3
   },
   "file_extension": ".py",
   "mimetype": "text/x-python",
   "name": "python",
   "nbconvert_exporter": "python",
   "pygments_lexer": "ipython3",
   "version": "3.10.8"
  }
 },
 "nbformat": 4,
 "nbformat_minor": 5
}
